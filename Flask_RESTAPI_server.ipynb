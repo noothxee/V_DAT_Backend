{
 "cells": [
  {
   "cell_type": "code",
   "execution_count": 1,
   "id": "2e2e5597",
   "metadata": {},
   "outputs": [],
   "source": [
    "from flask import Flask, request, make_response\n",
    "from flask_restx import Resource, Api, reqparse\n",
    "from flask_cors import CORS\n",
    "import pymysql\n",
    "import pandas as pd\n",
    "import json\n",
    "import boto3\n",
    "from datetime import datetime\n",
    "from pydub import AudioSegment\n",
    "from pydub.silence import detect_nonsilent\n",
    "from pydub.silence import split_on_silence\n",
    "\n",
    "import io\n",
    "import collections\n",
    "import contextlib\n",
    "import sys\n",
    "import wave\n",
    "import webrtcvad\n",
    "import os\n",
    "import ssl\n",
    "import werkzeug\n",
    "from werkzeug.utils import secure_filename\n",
    "import numpy as np\n",
    "from datetime import datetime\n",
    "\n",
    "\n",
    "import datetime, json\n",
    "import requests\n",
    "from azure.ai.anomalydetector import AnomalyDetectorClient\n",
    "from azure.ai.anomalydetector.models import DetectRequest, TimeSeriesPoint, TimeGranularity, \\\n",
    "    AnomalyDetectorError\n",
    "from azure.core.credentials import AzureKeyCredential\n",
    "import pandas as pd\n",
    "from dateutil import parser\n",
    "from pymongo import MongoClient\n",
    "\n",
    "import time\n",
    "import anomaly\n",
    "import matplotlib.pyplot as plt"
   ]
  },
  {
   "cell_type": "code",
   "execution_count": null,
   "id": "a68c7c9a",
   "metadata": {
    "scrolled": true
   },
   "outputs": [
    {
     "name": "stdout",
     "output_type": "stream",
     "text": [
      " * Serving Flask app '__main__' (lazy loading)\n",
      " * Environment: production\n",
      "\u001b[31m   WARNING: This is a development server. Do not use it in a production deployment.\u001b[0m\n",
      "\u001b[2m   Use a production WSGI server instead.\u001b[0m\n",
      " * Debug mode: off\n"
     ]
    },
    {
     "name": "stderr",
     "output_type": "stream",
     "text": [
      " * Running on http://127.0.0.1:5000/ (Press CTRL+C to quit)\n",
      "127.0.0.1 - - [20/Jun/2022 22:18:54] \"GET /sensor HTTP/1.1\" 200 -\n"
     ]
    }
   ],
   "source": [
    "app = Flask(__name__)\n",
    "app.config['JSON_AS_ASCII'] = False\n",
    "api = Api(app)\n",
    "\n",
    "CORS(app, resources={r'/*': {'origins': '*'}})\n",
    "SUBSCRIPTION_KEY = '20fb2829f07c4018938ce3a45fc0bcd1'\n",
    "ANOMALY_DETECTOR_ENDPOINT = 'https://v-dat.cognitiveservices.azure.com/anomalydetector/v1.1-preview/timeseries/entire/detect'\n",
    "\n",
    "@api.route('/hello')  # 데코레이터 이용, '/hello' 경로에 클래스 등록\n",
    "class HelloWorld(Resource):\n",
    "    def get(self):  # GET 요청시 리턴 값에 해당 하는 dict를 JSON 형태로 반환\n",
    "        print(request.json)\n",
    "        return {\"This is\": \"Test!\"}\n",
    "    \n",
    "@api.route('/upload')\n",
    "class Upload(Resource):\n",
    "    def post(self):\n",
    "        parser = reqparse.RequestParser()\n",
    "        parser.add_argument('file',type=werkzeug.datastructures.FileStorage, location='files')\n",
    "        args = parser.parse_args()\n",
    "        print(parser)\n",
    "        print(args)\n",
    "        file_object = args['file']\n",
    "            \n",
    "@api.route('/sensor')\n",
    "class GetAnomaly(Resource):\n",
    "    def get(self):\n",
    "        a = anomaly.VDAT()\n",
    "        sensor = \"../20220611/지용님/20220611_142409_data(head,e4,eye).csv\"\n",
    "        volume = \"../20220611/지용님/20220611_143903_voice.wav\"\n",
    "        result = a.getSensorResult(sensor, volume)\n",
    "        \n",
    "        return result\n",
    "    \n",
    "if __name__ == '__main__':\n",
    "    app.run()"
   ]
  }
 ],
 "metadata": {
  "kernelspec": {
   "display_name": "vdat",
   "language": "python",
   "name": "vdat"
  },
  "language_info": {
   "codemirror_mode": {
    "name": "ipython",
    "version": 3
   },
   "file_extension": ".py",
   "mimetype": "text/x-python",
   "name": "python",
   "nbconvert_exporter": "python",
   "pygments_lexer": "ipython3",
   "version": "3.9.5"
  }
 },
 "nbformat": 4,
 "nbformat_minor": 5
}
