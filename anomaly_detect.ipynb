{
 "cells": [
  {
   "cell_type": "code",
   "execution_count": 2,
   "id": "64654732",
   "metadata": {},
   "outputs": [],
   "source": [
    "import os\n",
    "import datetime, json\n",
    "import requests\n",
    "from azure.ai.anomalydetector import AnomalyDetectorClient\n",
    "from azure.ai.anomalydetector.models import DetectRequest, TimeSeriesPoint, TimeGranularity, \\\n",
    "    AnomalyDetectorError\n",
    "from azure.core.credentials import AzureKeyCredential\n",
    "import pandas as pd\n",
    "from pymongo import MongoClient\n",
    "from dateutil import parser\n"
   ]
  },
  {
   "cell_type": "code",
   "execution_count": 30,
   "id": "28c0cc4c",
   "metadata": {},
   "outputs": [],
   "source": [
    "SUBSCRIPTION_KEY = ''\n",
    "ANOMALY_DETECTOR_ENDPOINT = ''\n",
    "TIME_SERIES_DATA_PATH = os.path.join(\"./AnomalyDetector/example-data/\", \"request-data.csv\")"
   ]
  },
  {
   "cell_type": "code",
   "execution_count": 31,
   "id": "d634220a",
   "metadata": {},
   "outputs": [],
   "source": [
    "client = MongoClient(host=\"localhost\", port=27017)"
   ]
  },
  {
   "cell_type": "code",
   "execution_count": 32,
   "id": "5153de89",
   "metadata": {},
   "outputs": [],
   "source": [
    "db = client['v-dat']\n",
    "sensor = db['sensor']"
   ]
  },
  {
   "cell_type": "code",
   "execution_count": null,
   "id": "7ae92d67",
   "metadata": {},
   "outputs": [],
   "source": []
  },
  {
   "cell_type": "code",
   "execution_count": 33,
   "id": "f0b8f112",
   "metadata": {},
   "outputs": [],
   "source": [
    "j = {'granularity': 'daily'}\n",
    "t = []\n",
    "for i in sensor.find():\n",
    "    t.append({'timestamp': i['timestamp'],'value': i['value']})\n",
    "j['series'] = t"
   ]
  },
  {
   "cell_type": "code",
   "execution_count": 34,
   "id": "7bb72bd6",
   "metadata": {},
   "outputs": [],
   "source": [
    "def json_default(value): \n",
    "    if isinstance(value, datetime.date): \n",
    "        return value.strftime('%Y-%m-%d') \n",
    "    raise TypeError('not JSON serializable')\n",
    "\n",
    "\n",
    "def detect(endpoint, apikey, request_data):\n",
    "    headers = {'Content-Type': 'application/json', 'Ocp-Apim-Subscription-Key': apikey}\n",
    "    response = requests.post(endpoint, data=json.dumps(request_data, default=json_default), headers=headers)\n",
    "    if response.status_code == 200:\n",
    "        return json.loads(response.content.decode(\"utf-8\"))\n",
    "    else:\n",
    "        print(response.status_code)\n",
    "        raise Exception(response.text)"
   ]
  },
  {
   "cell_type": "code",
   "execution_count": 104,
   "id": "9a7cb976",
   "metadata": {},
   "outputs": [
    {
     "ename": "KeyError",
     "evalue": "'expectedValues'",
     "output_type": "error",
     "traceback": [
      "\u001b[0;31m---------------------------------------------------------------------------\u001b[0m",
      "\u001b[0;31mKeyError\u001b[0m                                  Traceback (most recent call last)",
      "\u001b[0;32m/var/folders/bt/g_w68s9x2m5dw3zhqnm9d3d00000gn/T/ipykernel_87230/2143447342.py\u001b[0m in \u001b[0;36m<module>\u001b[0;34m\u001b[0m\n\u001b[1;32m      1\u001b[0m \u001b[0;31m# sample_data = json.load(open(TIME_SERIES_DATA_PATH))\u001b[0m\u001b[0;34m\u001b[0m\u001b[0;34m\u001b[0m\u001b[0;34m\u001b[0m\u001b[0m\n\u001b[1;32m      2\u001b[0m \u001b[0mresult\u001b[0m \u001b[0;34m=\u001b[0m \u001b[0mdetect\u001b[0m\u001b[0;34m(\u001b[0m\u001b[0mANOMALY_DETECTOR_ENDPOINT\u001b[0m\u001b[0;34m,\u001b[0m \u001b[0mSUBSCRIPTION_KEY\u001b[0m\u001b[0;34m,\u001b[0m \u001b[0msendBvp\u001b[0m\u001b[0;34m)\u001b[0m\u001b[0;34m\u001b[0m\u001b[0;34m\u001b[0m\u001b[0m\n\u001b[0;32m----> 3\u001b[0;31m result = {'expectedValues': result['expectedValues'], 'isAnomaly': result['isAnomaly'], 'isNegativeAnomaly': result['isNegativeAnomaly'],\n\u001b[0m\u001b[1;32m      4\u001b[0m           \u001b[0;34m'isPositiveAnomaly'\u001b[0m\u001b[0;34m:\u001b[0m \u001b[0mresult\u001b[0m\u001b[0;34m[\u001b[0m\u001b[0;34m'isPositiveAnomaly'\u001b[0m\u001b[0;34m]\u001b[0m\u001b[0;34m,\u001b[0m \u001b[0;34m'upperMargins'\u001b[0m\u001b[0;34m:\u001b[0m \u001b[0mresult\u001b[0m\u001b[0;34m[\u001b[0m\u001b[0;34m'upperMargins'\u001b[0m\u001b[0;34m]\u001b[0m\u001b[0;34m,\u001b[0m \u001b[0;34m'lowerMargins'\u001b[0m\u001b[0;34m:\u001b[0m \u001b[0mresult\u001b[0m\u001b[0;34m[\u001b[0m\u001b[0;34m'lowerMargins'\u001b[0m\u001b[0;34m]\u001b[0m\u001b[0;34m,\u001b[0m\u001b[0;34m\u001b[0m\u001b[0;34m\u001b[0m\u001b[0m\n\u001b[1;32m      5\u001b[0m           \u001b[0;34m'timestamp'\u001b[0m\u001b[0;34m:\u001b[0m \u001b[0;34m[\u001b[0m\u001b[0mx\u001b[0m\u001b[0;34m[\u001b[0m\u001b[0;34m'timestamp'\u001b[0m\u001b[0;34m]\u001b[0m \u001b[0;32mfor\u001b[0m \u001b[0mx\u001b[0m \u001b[0;32min\u001b[0m \u001b[0mp\u001b[0m\u001b[0;34m[\u001b[0m\u001b[0;34m'series'\u001b[0m\u001b[0;34m]\u001b[0m\u001b[0;34m]\u001b[0m\u001b[0;34m,\u001b[0m\u001b[0;34m\u001b[0m\u001b[0;34m\u001b[0m\u001b[0m\n",
      "\u001b[0;31mKeyError\u001b[0m: 'expectedValues'"
     ]
    }
   ],
   "source": [
    "# sample_data = json.load(open(TIME_SERIES_DATA_PATH))\n",
    "result = detect(ANOMALY_DETECTOR_ENDPOINT, SUBSCRIPTION_KEY, sendBvp)\n",
    "result = {'expectedValues': result['expectedValues'], 'isAnomaly': result['isAnomaly'], 'isNegativeAnomaly': result['isNegativeAnomaly'],\n",
    "          'isPositiveAnomaly': result['isPositiveAnomaly'], 'upperMargins': result['upperMargins'], 'lowerMargins': result['lowerMargins'],\n",
    "          'timestamp': [x['timestamp'] for x in p['series']], \n",
    "          'value': [x['value'] for x in p['series']]}\n"
   ]
  },
  {
   "cell_type": "code",
   "execution_count": 35,
   "id": "95d0234b",
   "metadata": {},
   "outputs": [],
   "source": [
    "def detect_anomaly(sensitivity,data):\n",
    "    points = data['series']\n",
    "    result = {'expectedValues': [None]*len(points), 'isAnomaly': [False]*len(points)}\n",
    "    anom_count = 0\n",
    "    for i in range(0, len(points)+1):\n",
    "        single_sample_data = {}\n",
    "        single_sample_data['series'] = points\n",
    "        single_sample_data['granularity'] = 'secondly'\n",
    "        single_sample_data['maxAnomalyRatio'] = 0.25\n",
    "        single_sample_data['sensitivity'] = sensitivity\n",
    "        single_point = detect(ANOMALY_DETECTOR_ENDPOINT, SUBSCRIPTION_KEY, single_sample_data)\n",
    "        if single_point['isAnomaly'] == True:\n",
    "            anom_count = anom_count + 1\n",
    "        print(single_point)\n",
    "        result['expectedValues'][i-1] = single_point['expectedValue']\n",
    "#         result['upperMargins'][i-1] = single_point['upperMargin']\n",
    "#         result['lowerMargins'][i-1] = single_point['lowerMargin']\n",
    "#         result['isNegativeAnomaly'][i-1] = single_point['isNegativeAnomaly']\n",
    "#         result['isPositiveAnomaly'][i-1] = single_point['isPositiveAnomaly']\n",
    "        result['isAnomaly'][i-1] = single_point['isAnomaly']\n",
    "#         result['timestamp'][i-1] = data['series']['timstamp'][i] \n",
    "#         result['value'][i-1] = \n",
    "    \n",
    "    return result"
   ]
  },
  {
   "cell_type": "code",
   "execution_count": 36,
   "id": "bcbc7307",
   "metadata": {
    "scrolled": true
   },
   "outputs": [
    {
     "name": "stdout",
     "output_type": "stream",
     "text": [
      "0       2021-06-08T13:39:08T\n",
      "1       2021-06-08T13:39:08T\n",
      "2       2021-06-08T13:39:08T\n",
      "3       2021-06-08T13:39:08T\n",
      "4       2021-06-08T13:39:08T\n",
      "                ...         \n",
      "3762    2021-06-08T13:39:54T\n",
      "3763    2021-06-08T13:39:54T\n",
      "3764    2021-06-08T13:39:54T\n",
      "3765    2021-06-08T13:39:54T\n",
      "3766    2021-06-08T13:39:54T\n",
      "Name: vrTime, Length: 3767, dtype: object\n"
     ]
    }
   ],
   "source": [
    "import time\n",
    "data = pd.read_csv('./00.csv')\n",
    "data = data.drop(index=0)\n",
    "data = data.fillna(0)\n",
    "data = data.reset_index(drop=True)\n",
    "data['time'] = [i.replace(\" \", \"\") for i in data[' Time']]\n",
    "data['unix'] = [time.mktime(datetime.datetime.strptime(str(data['Date'][i])+data['time'][i],'%Y%m%d%H:%M:%S').timetuple())\n",
    "                for i in range(0, len(data))]\n",
    "datatime = data[['Date', 'time']]\n",
    "vrDate = datatime['Date'][0]\n",
    "vrTime = []\n",
    "for i in sorted(datatime['time']):\n",
    "    t = datetime.datetime.strptime(str(vrDate)+ ' ' + i, \"%Y%m%d %H:%M:%S\")\n",
    "    vrTime.append(t.isoformat()+'T')\n",
    "\n",
    "data['vrTime'] = vrTime\n",
    "print(data['vrTime'])\n",
    "data = data.drop(' Time', axis=1)\n",
    "\n",
    "incol = []\n",
    "for i in data['unix']:\n",
    "    incol.append(i - data['unix'][0])\n",
    "data['idx'] = incol\n",
    "# end = incol[-1]\n",
    "\n",
    "\n",
    "vrTime = data[['idx','vrTime']]\n",
    "hmd = data[['idx','unix', ' Left_pos.x', ' Left_pos.y', ' Left_pos.z',\n",
    "               ' Left_rot.x', ' Left_rot.y', ' Left_rot.z']]\n",
    "e4Eda = data[[' EDA']]\n",
    "e4Bvp = data[[' BVP']]\n",
    "e4Tmp = data[[' TMP']]\n",
    "# e4Ibi = data[[' IBI']]\n",
    "eyeTracker = data[['idx','unix', ' combined_x', ' combined_y', ' combined_z', ' r_bit', ' r_open',\n",
    "               ' r_dir_x', ' r_dir_y', ' r_dir_z', ' r_gaze_origin_x',\n",
    "               ' r_gaze_origin_y', ' r_gaze_origin_z', ' r_pupil', ' r_pupil_pos',\n",
    "               ' r_pupil_pos_x', ' r_pupil_pos_y', ' r_frown', ' r_squeeze',\n",
    "               ' r_widel_bit', ' l_open', ' l_dir_x', ' l_dir_y', ' l_dir_z',\n",
    "               ' l_gaze_origin_x', ' l_gaze_origin_y', ' l_gaze_origin_z', ' l_pupil',\n",
    "               ' l_pupil_pos', ' l_pupil_pos_x', ' l_pupil_pos_y', ' l_frown',\n",
    "               ' l_squeeze', ' l_wide']]\n",
    "\n",
    "e4Eda = e4Eda[e4Eda[' EDA'] != ' default'] \n",
    "e4Bvp = e4Bvp[e4Bvp[' BVP'] != ' ']\n",
    "e4Tmp = e4Tmp[e4Tmp[' TMP'] != ' ']  \n",
    "e4Tmp = e4Tmp[e4Tmp[' TMP'] != ' R device_subscribe gsr O']\n",
    "e4Tmp = e4Tmp[e4Tmp[' TMP'] != ' R device_subscribe bvp O']\n",
    "e4Tmp = e4Tmp[e4Tmp[' TMP'] != ' R device_subscribe tmp O']\n",
    "# e4Ibi = e4Ibi[e4Ibi[' IBI'] != ' ']\n",
    "\n",
    "e4Eda = e4Eda.reset_index(drop=True)\n",
    "e4Bvp = e4Bvp.reset_index(drop=True)\n",
    "e4Tmp = e4Tmp.reset_index(drop=True)\n",
    "# e4Ibi = e4Ibi.reset_index(drop=True)\n",
    "\n",
    "e4Bvp = pd.DataFrame(data= [i[8:].split() for i in e4Bvp[' BVP']], columns=['unix','value'])\n",
    "e4Eda = pd.DataFrame(data= [i[8:].split() for i in e4Eda[' EDA']], columns=['unix','value'])\n",
    "e4Tmp = pd.DataFrame(data= [i[16:].split() for i in e4Tmp[' TMP']], columns=['unix','value'])        \n",
    "# e4Ibi = pd.DataFrame(data= [i[8:].split() for i in e4Ibi[' IBI']], columns=['unix','value'])        \n",
    "# e4Hr = e4Ibi.copy()\n",
    "# a = np.full(len(e4Hr['value']), 60)\n",
    "# e4Hr['value'] = a / np.array(e4Hr['value'], dtype=float)\n"
   ]
  },
  {
   "cell_type": "code",
   "execution_count": 37,
   "id": "b0a8cd9c",
   "metadata": {},
   "outputs": [],
   "source": [
    "import re \n",
    "def processE4(data):\n",
    "    start = int(vrTime['vrTime'][0][-2:-1])\n",
    "    end = int(vrTime['vrTime'][len(vrTime)-1][-2:-1])\n",
    "\n",
    "    \n",
    "    unix = sorted(list(set([float(i) for i in data['unix']])))\n",
    "    value = []\n",
    "    iso = []    \n",
    "    for i in unix:\n",
    "        temp = [float(i) for i in data[data['unix'] == str(i)]['value']]\n",
    "        value.append(round(sum(temp) / len(temp),4))\n",
    "        t = float(i)\n",
    "        iso.append(datetime.datetime.fromtimestamp(t).isoformat())\n",
    "                \n",
    "    pData = pd.DataFrame()\n",
    "    pData['unix'] = unix\n",
    "    pData['iso'] = iso\n",
    "    pData['value'] = value\n",
    "    \n",
    "    pattern = re.compile(r':\\d\\d')\n",
    "    sec = []\n",
    "    for i in pData['iso']:\n",
    "        sec.append(re.findall(pattern,i)[1][1:]) \n",
    "    \n",
    "    pData['sec'] = sec\n",
    "\n",
    "    mValue = []\n",
    "    for i in set(pData['sec']):\n",
    "        mValue.append(pData[pData['sec'] == i]['value'].mean())\n",
    "        \n",
    "    requestData = pd.DataFrame()\n",
    "    requestData['timestamp'] = sorted(list(set([i[:19] for i in pData['iso']])))\n",
    "    requestData['value'] = mValue\n",
    "    \n",
    "    sensorStart = int(requestData['timestamp'][0][-2:])\n",
    "    sensorEnd = int(requestData['timestamp'][len(requestData)-1][-2:-1])\n",
    "    \n",
    "    temp = pd.DataFrame(columns=['timestamp', 'value'])\n",
    "\n",
    "    if sensorEnd > end:\n",
    "        requestData = requestData[:-(sensorEnd - end)]\n",
    "    if sensorEnd <= end:\n",
    "        t = []\n",
    "        v = []\n",
    "        for i in range(1, end - sensorEnd +1):\n",
    "            t.append(datetime.datetime.strptime(requestData['timestamp'][len(requestData)-1], \"%Y-%m-%dT%H:%M:%S\") + datetime.timedelta(seconds=i))\n",
    "            v.append(0)\n",
    "        temp['timestamp'] = t\n",
    "        temp['value'] = v\n",
    "        requestData = requestData.append(temp).reset_index(drop=True)\n",
    "    \n",
    "        \n",
    "    temp = pd.DataFrame(columns=['timestamp', 'value'])\n",
    "    t = []\n",
    "    v = []\n",
    "    for i in range(0, sensorStart - start):\n",
    "        t.append(datetime.datetime.strptime(vrTime['vrTime'][0], \"%Y-%m-%dT%H:%M:%S\") + datetime.timedelta(seconds=i))\n",
    "        v.append(0)\n",
    "    temp['timestamp'] = t\n",
    "    temp['value'] = v\n",
    "    \n",
    "    requestData = temp.append(requestData).reset_index(drop=True)\n",
    "    \n",
    "    pData = pData[['unix', 'iso', 'sec', 'value']]\n",
    "\n",
    "    return pData, requestData\n",
    "\n",
    "def processAnother(data):\n",
    "    idx = vrTime['idx']\n",
    "    pData = pd.DataFrame(columns=[data.columns])\n",
    "    timeList = []\n",
    "    sec = []\n",
    "    for i in list(set(idx)):\n",
    "        t_data = data[data['idx'] == i]\n",
    "        sec.append(list(vrTime[data['idx'] == i]['vrTime'])[0][-2:])\n",
    "        timeList.append(list(vrTime[data['idx'] == i]['vrTime'])[0])\n",
    "        pData.loc[len(pData)] = list(t_data.mean())\n",
    "    pData['timestamp'] = timeList\n",
    "    pData['sec'] = sec    \n",
    "    \n",
    "    return pData\n",
    "\n",
    "def makeRequestHmd(data):\n",
    "    \n",
    "    requestPosX = pd.DataFrame()\n",
    "    requestPosY = pd.DataFrame()\n",
    "    requestPosZ = pd.DataFrame()\n",
    "    \n",
    "    requestPosX['timestamp'] = data['timestamp']\n",
    "    requestPosX['value'] =  data[' Left_pos.x']\n",
    "    \n",
    "    requestPosY['timestamp'] = data['timestamp']\n",
    "    requestPosY['value'] =  data[' Left_pos.y']\n",
    "    \n",
    "    requestPosZ['timestamp'] = data['timestamp']\n",
    "    requestPosZ['value'] =  data[' Left_pos.z']\n",
    "    \n",
    "    return requestPosX, requestPosY, requestPosZ\n",
    "\n",
    "def makeRequestEyetracker(data):\n",
    "    requestCombinedX = pd.DataFrame()\n",
    "    requestCombinedY = pd.DataFrame()\n",
    "    requestCombinedZ = pd.DataFrame()\n",
    "    \n",
    "    requestCombinedX['timestamp'] = data['timestamp']\n",
    "    requestCombinedX['value'] = data[' combined_x']\n",
    "\n",
    "    requestCombinedY['timestamp'] = data['timestamp']\n",
    "    requestCombinedY['value'] = data[' combined_y']\n",
    "\n",
    "    requestCombinedZ['timestamp'] = data['timestamp']\n",
    "    requestCombinedZ['value'] = data[' combined_z']\n",
    "    \n",
    "    return requestCombinedX, requestCombinedY, requestCombinedZ\n",
    "\n",
    "def makeJson(data):\n",
    "    p = {'granularity': 'secondly'}\n",
    "    t = []\n",
    "    for i, v in enumerate(data['timestamp']):\n",
    "        t.append({'timestamp': str(v),'value': str(data['value'][i])})\n",
    "    p['series'] = t\n",
    "    \n",
    "    return p\n",
    "\n",
    "\n",
    "def getResult(data):\n",
    "    result = detect(ANOMALY_DETECTOR_ENDPOINT, SUBSCRIPTION_KEY, data)\n",
    "    print(result)\n",
    "    result = {'expectedValues': result['expectedValues'], 'isAnomaly': result['isAnomaly'], 'isNegativeAnomaly': result['isNegativeAnomaly'],\n",
    "          'isPositiveAnomaly': result['isPositiveAnomaly'], 'upperMargins': result['upperMargins'], 'lowerMargins': result['lowerMargins'],\n",
    "          'timestamp': [x['timestamp'] for x in data['series']], \n",
    "          'value': [x['value'] for x in data['series']]}\n",
    "    \n",
    "    return result\n",
    " \n"
   ]
  },
  {
   "cell_type": "code",
   "execution_count": 38,
   "id": "8d1607ad",
   "metadata": {
    "scrolled": true
   },
   "outputs": [
    {
     "name": "stdout",
     "output_type": "stream",
     "text": [
      "{'expectedValues': [-0.5612771599999999, -0.5629899909375, -0.5677704087731482, -0.5707497574419301, -0.5719476825052683, -0.5753216364311942, -0.5769781720561943, -0.5763510391673053, -0.5746826700161116, -0.5740730034643875, -0.573299643967033, -0.5744783801208792, -0.5754390333516485, -0.5767633110989013, -0.5774778266989016, -0.5779282710395609, -0.5762569613142862, -0.5741969163692311, -0.5736441979926742, -0.571007876530605, -0.5690833678303399, -0.5708741386431477, -0.5744566402833595, -0.5744330176585699, -0.5765578710180591, -0.5834368535644782, -0.5829289313589804, -0.5773373418616263, -0.5751860864344014, -0.5733191104184627, -0.5683251681107702, -0.5702395230748885, -0.5753346903500202, -0.5787028605698005, -0.582205901310541, -0.5834303864102559, -0.5826493679487179, -0.5824725568376067, -0.5831959045299143, -0.5837570427728089, -0.5844010777183428, -0.5851269779040187, -0.5857916608669818, -0.5860683720977505, -0.5860540612878061, -0.5860224930089395, -0.585914844012074], 'isAnomaly': [False, False, False, False, False, False, False, False, False, False, False, False, False, False, False, False, False, False, False, False, False, False, False, False, True, False, False, False, False, False, False, False, False, False, False, False, False, False, False, False, False, False, False, False, False, False, False], 'isNegativeAnomaly': [False, False, False, False, False, False, False, False, False, False, False, False, False, False, False, False, False, False, False, False, False, False, False, False, True, False, False, False, False, False, False, False, False, False, False, False, False, False, False, False, False, False, False, False, False, False, False], 'isPositiveAnomaly': [False, False, False, False, False, False, False, False, False, False, False, False, False, False, False, False, False, False, False, False, False, False, False, False, False, False, False, False, False, False, False, False, False, False, False, False, False, False, False, False, False, False, False, False, False, False, False], 'lowerMargins': [0.0002523148999999947, 0.0017299592468749648, 0.00965644402800925, 0.009027426466409303, 0.004839617255885929, 0.0028535461304197395, 0.004032598776755964, 0.002177013758978584, 0.004721942356038511, 0.00038577299903139406, 0.00099029305758232, 0.004444808654835317, 0.0035954109302195015, 0.0012160756829667618, 0.0002523148999999947, 0.0014098763653412193, 0.005791672463143422, 0.005553277890066497, 0.011307600587985616, 0.006995114399359457, 0.0021952930603674125, 0.00868837103938638, 0.012276034239732872, 0.014315997972536685, 0.0004657997298194161, 0.01804654820756935, 0.01930860218981141, 0.018871001315956936, 0.010965289370173919, 0.008027180041165961, 0.008089941861968089, 0.01643181819436274, 0.00888227145018344, 0.002492028362963008, 0.000687516898575925, 0.000982678866951202, 4.6268358974139725e-05, 0.000780130186609791, 0.0016069598094019411, 0.001954612148300466, 0.0012892993868267066, 0.0011171415238376637, 0.0007844840799039088, 0.0002523148999999947, 0.00043764614206348807, 0.0005077498649547885, 0.0002523148999999947], 'period': 0, 'upperMargins': [0.0002523148999999947, 0.0017299592468749648, 0.00965644402800925, 0.009027426466409303, 0.004839617255885929, 0.0028535461304197395, 0.004032598776755964, 0.002177013758978584, 0.004721942356038511, 0.00038577299903139406, 0.00099029305758232, 0.004444808654835317, 0.0035954109302195015, 0.0012160756829667618, 0.0002523148999999947, 0.0014098763653412193, 0.005791672463143422, 0.005553277890066497, 0.011307600587985616, 0.006995114399359457, 0.0021952930603674125, 0.00868837103938638, 0.012276034239732872, 0.014315997972536685, 0.0004657997298194161, 0.01804654820756935, 0.01930860218981141, 0.018871001315956936, 0.010965289370173919, 0.008027180041165961, 0.008089941861968089, 0.01643181819436274, 0.00888227145018344, 0.002492028362963008, 0.000687516898575925, 0.000982678866951202, 4.6268358974139725e-05, 0.000780130186609791, 0.0016069598094019411, 0.001954612148300466, 0.0012892993868267066, 0.0011171415238376637, 0.0007844840799039088, 0.0002523148999999947, 0.00043764614206348807, 0.0005077498649547885, 0.0002523148999999947]}\n",
      "{'expectedValues': [1.0731382000000003, 1.0792934281250002, 1.082108408873457, 1.0814715652757825, 1.0814623349792467, 1.083462450534802, 1.0829453992848022, 1.081807293210728, 1.082266417083407, 1.0824346177414679, 1.083967990757341, 1.084223803336584, 1.0889639430288915, 1.093045926545375, 1.0971219311286937, 1.0992685410188034, 1.1002037555824173, 1.095731833604395, 1.0908161347032965, 1.086397936358469, 1.084611461775588, 1.0853690185113885, 1.0912485735378439, 1.1007840350763054, 1.1042890118211637, 1.1065705556348142, 1.102672691756157, 1.0938914724439877, 1.0838369955209104, 1.0804651735653246, 1.0802271812576323, 1.086931035103786, 1.0931390544159547, 1.0970792005698016, 1.09987951908832, 1.0984504296296307, 1.0962555527065532, 1.0954036267806273, 1.095603688319089, 1.0958282951235674, 1.0959917786094053, 1.096184787893226, 1.0963344990043367, 1.0964396846453623, 1.0964264045330936, 1.0964156173435513, 1.0962032675002902], 'isAnomaly': [False, False, False, False, False, False, False, False, False, False, False, False, False, False, False, False, False, False, False, False, False, False, False, False, False, False, False, False, False, False, False, False, False, False, False, False, False, False, False, False, False, False, False, False, False, False, False], 'isNegativeAnomaly': [False, False, False, False, False, False, False, False, False, False, False, False, False, False, False, False, False, False, False, False, False, False, False, False, False, False, False, False, False, False, False, False, False, False, False, False, False, False, False, False, False, False, False, False, False, False, False], 'isPositiveAnomaly': [False, False, False, False, False, False, False, False, False, False, False, False, False, False, False, False, False, False, False, False, False, False, False, False, False, False, False, False, False, False, False, False, False, False, False, False, False, False, False, False, False, False, False, False, False, False, False], 'lowerMargins': [0.000377556620879016, 0.0062167804062496865, 0.005686261111882663, 0.001929636100954073, 3.7290398005171976e-05, 0.000377556620879016, 8.281927765003471e-05, 0.00024295225716482129, 0.00041386086962558855, 0.009046416995805766, 0.00690602862080016, 0.025678594014665625, 0.016952441386973792, 0.009312851332028145, 0.005579753960019351, 0.002292852801777632, 0.011499072066812997, 0.012466334083296086, 0.013259338358021946, 0.005900912963432969, 0.0015405074278262343, 0.028167348889704895, 0.0217535114675183, 0.024827163034469767, 0.027846132460624846, 0.002582082345008969, 0.029851248673718144, 0.025260973954141806, 0.008831435476119648, 0.0007636091434668013, 0.022822864622098985, 0.019902286468252827, 0.006849465780626538, 0.00230832449857602, 0.004703271316240114, 0.002799518000001, 0.0005996047720799136, 0.0002600217663811444, 0.0001922536438741096, 0.0005227292507781223, 0.0005093111339122691, 0.0004465645726692458, 7.588193154600464e-05, 0.000377556620879016, 0.0001484258198036925, 2.675870523540791e-05, 0.0006444665389295202], 'period': 0, 'upperMargins': [0.000377556620879016, 0.0062167804062496865, 0.005686261111882663, 0.001929636100954073, 3.7290398005171976e-05, 0.000377556620879016, 8.281927765003471e-05, 0.00024295225716482129, 0.00041386086962558855, 0.009046416995805766, 0.00690602862080016, 0.025678594014665625, 0.016952441386973792, 0.009312851332028145, 0.005579753960019351, 0.002292852801777632, 0.011499072066812997, 0.012466334083296086, 0.013259338358021946, 0.005900912963432969, 0.0015405074278262343, 0.028167348889704895, 0.0217535114675183, 0.024827163034469767, 0.027846132460624846, 0.002582082345008969, 0.029851248673718144, 0.025260973954141806, 0.008831435476119648, 0.0007636091434668013, 0.022822864622098985, 0.019902286468252827, 0.006849465780626538, 0.00230832449857602, 0.004703271316240114, 0.002799518000001, 0.0005996047720799136, 0.0002600217663811444, 0.0001922536438741096, 0.0005227292507781223, 0.0005093111339122691, 0.0004465645726692458, 7.588193154600464e-05, 0.000377556620879016, 0.0001484258198036925, 2.675870523540791e-05, 0.0006444665389295202]}\n"
     ]
    },
    {
     "name": "stdout",
     "output_type": "stream",
     "text": [
      "{'expectedValues': [-0.3973437249999999, -0.3893511265624999, -0.3880515189429012, -0.38301392196579653, -0.3808757444691889, -0.37478990539511486, -0.3746776973701149, -0.3742991078293742, -0.3790449454686315, -0.38451305087977206, -0.3932855056681318, -0.3990856503758241, -0.4057350684065934, -0.4111780109890111, -0.4149151338813189, -0.4159542623978025, -0.41561673294725293, -0.4139029144307694, -0.41271247569450564, -0.4112562715289883, -0.4109087154016674, -0.4149351411652141, -0.4162432628527609, -0.4166202875622858, -0.4206236330068221, -0.40827714391252423, -0.4079333701194209, -0.41115892771758844, -0.4143589981728987, -0.4187496433542446, -0.4324014995080908, -0.4327465731420432, -0.43304319499389476, -0.4331007344444444, -0.4317704225925926, -0.43084792373219366, -0.4315742583475782, -0.4314206227920227, -0.4316584250997149, -0.4323319792426954, -0.4326960674605601, -0.43289286334915467, -0.43328001297878416, -0.43372547703006603, -0.43362668559462064, -0.43354192404342273, -0.4339255796233594], 'isAnomaly': [False, False, False, False, False, False, False, False, False, False, False, False, False, False, False, False, False, False, False, False, False, False, False, True, True, False, False, False, False, False, False, False, False, False, False, False, False, False, False, False, False, False, False, False, False, False, False], 'isNegativeAnomaly': [False, False, False, False, False, False, False, False, False, False, False, False, False, False, False, False, False, False, False, False, False, False, False, True, False, False, False, False, False, False, False, False, False, False, False, False, False, False, False, False, False, False, False, False, False, False, False], 'isPositiveAnomaly': [False, False, False, False, False, False, False, False, False, False, False, False, False, False, False, False, False, False, False, False, False, False, False, False, True, False, False, False, False, False, False, False, False, False, False, False, False, False, False, False, False, False, False, False, False, False, False], 'lowerMargins': [0.0006825928076922838, 0.008072524421874942, 0.002625207391589458, 0.015263918840626929, 0.008638237086294678, 0.007954129523140101, 0.006180988536183953, 0.00935285065233202, 0.012711227499759075, 0.015302015765276393, 0.01766621088232981, 0.010819686774263787, 0.011182091524725225, 0.007743691365384392, 0.003468382539867902, 1.8365593604169895e-05, 0.00758123034815408, 0.005722216467934299, 0.00018216639470308772, 0.0006825928076922838, 0.003359209616729869, 0.01344062745761636, 0.07477260066685969, 0.0007326806243771466, 0.000577402890068246, 0.040365638313187874, 0.01877635855869505, 0.019944290505235707, 0.016583509273943652, 0.01866431480480559, 0.0042106361122129544, 0.0045423546426944265, 0.0006825928076922838, 0.0020550701350427174, 0.001204747077777724, 0.001121128400854795, 0.0003096731074076492, 0.00020205927635330245, 0.0006025639569800933, 0.0016295291276682855, 0.0010931487354224267, 2.8298706784158356e-05, 0.0002791808173540011, 0.000764434966299884, 0.00017702103677352032, 0.00026590216963379154, 0.0008661185349523598], 'period': 0, 'upperMargins': [0.0006825928076922838, 0.008072524421874942, 0.002625207391589458, 0.015263918840626929, 0.008638237086294678, 0.007954129523140101, 0.006180988536183953, 0.00935285065233202, 0.012711227499759075, 0.015302015765276393, 0.01766621088232981, 0.010819686774263787, 0.011182091524725225, 0.007743691365384392, 0.003468382539867902, 1.8365593604169895e-05, 0.00758123034815408, 0.005722216467934299, 0.00018216639470308772, 0.0006825928076922838, 0.003359209616729869, 0.01344062745761636, 0.07477260066685969, 0.0007326806243771466, 0.000577402890068246, 0.040365638313187874, 0.01877635855869505, 0.019944290505235707, 0.016583509273943652, 0.01866431480480559, 0.0042106361122129544, 0.0045423546426944265, 0.0006825928076922838, 0.0020550701350427174, 0.001204747077777724, 0.001121128400854795, 0.0003096731074076492, 0.00020205927635330245, 0.0006025639569800933, 0.0016295291276682855, 0.0010931487354224267, 2.8298706784158356e-05, 0.0002791808173540011, 0.000764434966299884, 0.00017702103677352032, 0.00026590216963379154, 0.0008661185349523598]}\n",
      "{'expectedValues': [0.017716216, -0.08315477279687501, -0.08843807390162038, -0.12834921894345663, -0.14208882844442047, -0.21266596564442047, -0.1640032709256705, -0.23305218850344828, -0.229294572112069, -0.20557901889933688, -0.15566973741362258, -0.13614535181362258, -0.06976629516746873, -0.036651304245054916, -0.03476709792813182, -0.04621855933692305, -0.08215164026549449, -0.051426930425934006, -0.04705348594493284, -0.038635406509070824, -0.03491116651702839, -0.09258609172638801, -0.1707855033380282, -0.13384012578056784, -0.07473122681642988, -0.050215554808472264, -0.016012401842955003, 0.04949834708297089, 0.052528651973080806, -0.012506132800252524, -0.08549725526179106, -0.037711968797069596, -0.13486175994521776, -0.18172169315029754, -0.164533174794742, -0.10216215270642293, -0.10791905934488444, -0.033453796381921475, -0.07027931122079778, -0.11847650737557806, -0.11765495263928169, -0.14023121647450712, -0.15253782558561815, -0.11894671816628763, -0.09970708742683296, -0.10372270171868489, -0.061619176991851175], 'isAnomaly': [False, False, False, False, False, False, False, False, False, False, False, False, False, False, False, False, False, False, False, False, False, False, False, False, False, False, False, False, False, False, False, False, False, False, False, False, False, False, False, False, False, False, False, False, False, False, False], 'isNegativeAnomaly': [False, False, False, False, False, False, False, False, False, False, False, False, False, False, False, False, False, False, False, False, False, False, False, False, False, False, False, False, False, False, False, False, False, False, False, False, False, False, False, False, False, False, False, False, False, False, False], 'isPositiveAnomaly': [False, False, False, False, False, False, False, False, False, False, False, False, False, False, False, False, False, False, False, False, False, False, False, False, False, False, False, False, False, False, False, False, False, False, False, False, False, False, False, False, False, False, False, False, False, False, False], 'lowerMargins': [0.005797168138896552, 0.10187969868484377, 0.010672268231585647, 0.12093076947676391, 0.055508022383893886, 0.12372853939913535, 0.22552389275492718, 0.21330904625151728, 0.4528269864745026, 0.1283806136998687, 0.07074714159061596, 0.29598554173175884, 0.04301356245777965, 0.027338996387494527, 0.034624184580586866, 0.09762842838124615, 0.05998983437886372, 0.09362346384305048, 0.3921074428879255, 0.01179410823726498, 0.09024148316952539, 0.22072974195289985, 0.18073140615451744, 0.27948176465760427, 0.34675082651659417, 0.04902009264501852, 0.1253432462593051, 0.07238881300380061, 0.1065523388214741, 0.044522181545078275, 0.2839505583278988, 0.1378890130111941, 0.3767915502034782, 0.48234934680281494, 0.19582714856491162, 0.04785464963719084, 0.17972579594025634, 0.10316401543944448, 0.1920231309746865, 0.09408592611008468, 0.0676512289876745, 0.09835094227328667, 0.04503752195482194, 0.44880202625204946, 0.01588290502407113, 0.03330080338401989, 0.23157558226631514], 'period': 0, 'upperMargins': [0.005797168138896552, 0.10187969868484377, 0.010672268231585647, 0.12093076947676391, 0.055508022383893886, 0.12372853939913535, 0.22552389275492718, 0.21330904625151728, 0.4528269864745026, 0.1283806136998687, 0.07074714159061596, 0.29598554173175884, 0.04301356245777965, 0.027338996387494527, 0.034624184580586866, 0.09762842838124615, 0.05998983437886372, 0.09362346384305048, 0.3921074428879255, 0.01179410823726498, 0.09024148316952539, 0.22072974195289985, 0.18073140615451744, 0.27948176465760427, 0.34675082651659417, 0.04902009264501852, 0.1253432462593051, 0.07238881300380061, 0.1065523388214741, 0.044522181545078275, 0.2839505583278988, 0.1378890130111941, 0.3767915502034782, 0.48234934680281494, 0.19582714856491162, 0.04785464963719084, 0.17972579594025634, 0.10316401543944448, 0.1920231309746865, 0.09408592611008468, 0.0676512289876745, 0.09835094227328667, 0.04503752195482194, 0.44880202625204946, 0.01588290502407113, 0.03330080338401989, 0.23157558226631514]}\n"
     ]
    },
    {
     "name": "stdout",
     "output_type": "stream",
     "text": [
      "{'expectedValues': [0.024710843500000003, -0.14035668581249997, -0.12894721331944445, -0.17160817895510055, -0.2092564626123563, -0.26586681383087485, -0.2722285052058748, -0.3831779019392081, -0.40407460845849297, -0.39607105977944784, -0.35623127354664363, -0.30363388776202827, -0.18793926859279758, -0.1065017880725276, -0.03047364961529677, -0.0743699980988132, -0.08332968341200005, -0.10371514096694501, -0.1915032951801318, -0.20520006843364902, -0.20366812373338378, -0.20956415350826055, -0.1749262741151388, -0.058471316230523485, -0.06657666650500627, -0.0253525442052716, -0.04511699070871984, -0.09345878826612726, -0.13960922143755586, -0.11510480107829668, -0.12792822571019596, -0.09948564431868405, -0.15956613292423966, -0.1716321757289773, -0.19508832491490313, -0.17700157177303222, -0.15609749980380147, -0.10361924758157919, -0.18800589564387452, -0.24049342844697535, -0.22227358838301026, -0.22469999119202894, -0.2584919907475845, -0.264827175309123, -0.21457706040487262, -0.25202252335772657, -0.30605111370255395], 'isAnomaly': [False, False, False, False, False, False, False, False, False, False, False, False, False, False, False, False, False, False, False, False, False, False, False, False, False, False, False, False, False, False, False, False, False, False, False, False, False, False, False, False, False, False, False, False, False, False, False], 'isNegativeAnomaly': [False, False, False, False, False, False, False, False, False, False, False, False, False, False, False, False, False, False, False, False, False, False, False, False, False, False, False, False, False, False, False, False, False, False, False, False, False, False, False, False, False, False, False, False, False, False, False], 'isPositiveAnomaly': [False, False, False, False, False, False, False, False, False, False, False, False, False, False, False, False, False, False, False, False, False, False, False, False, False, False, False, False, False, False, False, False, False, False, False, False, False, False, False, False, False, False, False, False, False, False, False], 'lowerMargins': [0.006268776461323074, 0.166718204605625, 0.0230471344359722, 0.1292627258760381, 0.1831703208961904, 0.007601160250664995, 0.06565420846206638, 0.2804743235613998, 0.3829618856876912, 0.07700159799262686, 0.30006018503925297, 0.2316820261319562, 0.10659248356334092, 0.11071072803753859, 0.09169031293584973, 0.20629626300481402, 0.03607163109316564, 0.08142044599124262, 0.24676792856037463, 0.19899529101212343, 0.06796883537755831, 0.06165023334092942, 0.1654240894236976, 0.20696731001782873, 0.018053636178056318, 0.03988575308729106, 0.2042518559290205, 0.1609841489487114, 0.05585690676121713, 0.1908143749113389, 0.33050556663270203, 0.006268776461323081, 0.39762219830207346, 0.6215999639752714, 0.1531441805973855, 0.1398595737315033, 0.15703905772876256, 0.18911337877593834, 0.3823485411689174, 0.06605870549088043, 0.2775945028306051, 0.21407423984532853, 0.20334150593382852, 0.33675173074278586, 0.1615288430530593, 0.1185413392431557, 0.02339449233957942], 'period': 0, 'upperMargins': [0.006268776461323074, 0.166718204605625, 0.0230471344359722, 0.1292627258760381, 0.1831703208961904, 0.007601160250664995, 0.06565420846206638, 0.2804743235613998, 0.3829618856876912, 0.07700159799262686, 0.30006018503925297, 0.2316820261319562, 0.10659248356334092, 0.11071072803753859, 0.09169031293584973, 0.20629626300481402, 0.03607163109316564, 0.08142044599124262, 0.24676792856037463, 0.19899529101212343, 0.06796883537755831, 0.06165023334092942, 0.1654240894236976, 0.20696731001782873, 0.018053636178056318, 0.03988575308729106, 0.2042518559290205, 0.1609841489487114, 0.05585690676121713, 0.1908143749113389, 0.33050556663270203, 0.006268776461323081, 0.39762219830207346, 0.6215999639752714, 0.1531441805973855, 0.1398595737315033, 0.15703905772876256, 0.18911337877593834, 0.3823485411689174, 0.06605870549088043, 0.2775945028306051, 0.21407423984532853, 0.20334150593382852, 0.33675173074278586, 0.1615288430530593, 0.1185413392431557, 0.02339449233957942]}\n",
      "{'expectedValues': [0.9987320249999996, 0.8574547468749997, 0.8926874472993825, 0.894729260474537, 0.8252502780348021, 0.7050834315533206, 0.7450312882033208, 0.6905008982171139, 0.6344065510750109, 0.6973294921890691, 0.7721879536705505, 0.7826482601936272, 0.8425873259348198, 0.9177510623626371, 0.9417953339934065, 0.9072377547626373, 0.909499184268132, 0.9037496710263738, 0.8099575509714285, 0.8132511244334975, 0.8430791891815079, 0.785612887580523, 0.7796099102524803, 0.8656245271755573, 0.8371920385134886, 0.8781413976116319, 0.9300206507150797, 0.920467618757408, 0.905528599032133, 0.9326296762765771, 0.91417666760943, 0.8827978158322416, 0.8808728652823106, 0.8791578311609513, 0.8636176030128034, 0.8904698655830842, 0.9298255663523151, 0.9392172784895478, 0.9110599069515672, 0.8492973585622472, 0.8441950675731406, 0.8452041703052359, 0.8296499258607909, 0.8605306739057597, 0.9370558880677493, 0.9375292286864862, 0.9228682408494961], 'isAnomaly': [False, False, False, False, False, False, False, False, False, False, False, False, False, False, False, False, False, False, False, False, False, False, False, False, False, False, False, False, False, False, False, False, False, False, False, False, False, False, False, False, False, False, False, False, False, False, False], 'isNegativeAnomaly': [False, False, False, False, False, False, False, False, False, False, False, False, False, False, False, False, False, False, False, False, False, False, False, False, False, False, False, False, False, False, False, False, False, False, False, False, False, False, False, False, False, False, False, False, False, False, False], 'isPositiveAnomaly': [False, False, False, False, False, False, False, False, False, False, False, False, False, False, False, False, False, False, False, False, False, False, False, False, False, False, False, False, False, False, False, False, False, False, False, False, False, False, False, False, False, False, False, False, False, False, False], 'lowerMargins': [0.006008342324074101, 0.1426900509062499, 0.07117005485725339, 0.006186693920717927, 0.2806950890565293, 0.3102574953503353, 0.17259431843464637, 0.700859291119285, 0.9196959477011456, 0.16626575727365542, 2.167792744111052e-06, 0.18742572466597476, 0.14908498999813932, 0.07923508990659388, 0.040778828786659616, 0.31091390642564815, 0.07072651035347248, 0.058275979584791325, 0.2855436698657582, 0.1872410264256158, 0.09548202821125384, 0.09435315307701796, 0.15334210245980967, 0.1067577813201479, 0.019476635461376547, 0.07589940471994372, 0.02178523432949343, 0.037166994516410985, 0.02313866255816857, 0.059945061405101516, 0.7752702335932167, 0.08898290391364075, 0.7950089446758745, 1.1103640267033301, 0.051169103253364774, 0.10586388427960355, 0.0622653569457004, 0.018397004829998807, 0.17958093213646772, 0.2462683192176372, 0.1268348607746573, 0.1528289357503327, 0.013717086880601269, 0.9604011326781506, 0.051547897499849143, 0.03495772817479699, 0.006008342324074101], 'period': 0, 'upperMargins': [0.0, 0.1426900509062499, 0.07117005485725339, 0.006186693920717927, 0.2806950890565293, 0.3102574953503353, 0.17259431843464637, 0.700859291119285, 0.9196959477011456, 0.16626575727365542, 2.167792744111052e-06, 0.18742572466597476, 0.14908498999813932, 0.07923508990659388, 0.040778828786659616, 0.31091390642564815, 0.07072651035347248, 0.058275979584791325, 0.2855436698657582, 0.1872410264256158, 0.09548202821125384, 0.09435315307701796, 0.15334210245980967, 0.1067577813201479, 0.019476635461376547, 0.07589940471994372, 0.02178523432949343, 0.037166994516410985, 0.02313866255816857, 0.059945061405101516, 0.7752702335932167, 0.08898290391364075, 0.7950089446758745, 1.1103640267033301, 0.051169103253364774, 0.10586388427960355, 0.0622653569457004, 0.018397004829998807, 0.17958093213646772, 0.2462683192176372, 0.1268348607746573, 0.1528289357503327, 0.013717086880601269, 0.9604011326781506, 0.051547897499849143, 0.03495772817479699, 0.006008342324074101]}\n",
      "{'expectedValues': [8.200583333333332, 49.12940833333334, 36.812555555555555, 30.047125000000005, 25.732133333333337, 27.56185666666667, 10.573396666666671, 5.5557980952381, 5.537917142857142, 4.793387809523807, -0.44163219047619007, -1.272978857142857, 0.9900130476190497, -1.872436666666664, -0.8609373333333281, 0.7665993333333347, -0.0059206666666682395, 0.9790459999999939, -0.035758000000004134, -0.8355846666666708, 0.11753533333333052, 0.37018533333333037, -0.5895080000000007, 1.747976666666665, 3.35725333333333, 3.523393333333331, 4.968403333333333, 9.046456666666666, 9.145139999999998, 6.539733333333333, 2.102248666666668, -1.2809446666666644, -3.735028, -5.4555479999999985, -5.707102666666668, -2.9528513333333364, -2.21031466666667, -11.178741333333335, -10.186887263157894, -10.703905929824558, -9.121265929824556, -7.876719263157892, -1.7898672631578934, -3.769077999999999, -1.4216213333333343, -4.529694666666669], 'isAnomaly': [False, False, False, False, False, False, False, False, False, False, False, False, False, False, False, False, False, False, False, False, False, False, False, False, False, False, False, False, False, False, False, False, False, False, False, False, False, False, True, False, False, False, False, False, False, False], 'isNegativeAnomaly': [False, False, False, False, False, False, False, False, False, False, False, False, False, False, False, False, False, False, False, False, False, False, False, False, False, False, False, False, False, False, False, False, False, False, False, False, False, False, True, False, False, False, False, False, False, False], 'isPositiveAnomaly': [False, False, False, False, False, False, False, False, False, False, False, False, False, False, False, False, False, False, False, False, False, False, False, False, False, False, False, False, False, False, False, False, False, False, False, False, False, False, False, False, False, False, False, False, False, False], 'lowerMargins': [0.3025834285714284, 41.33811325000001, 24.880042611111115, 20.49925458333333, 17.432566333333337, 10.314783233333339, 5.51203796666667, 18.649590361904767, 4.164746542857143, 0.04430648761904303, 13.715327168868612, 2.2545006457142867, 2.6100383447619064, 2.806167166666668, 10.774633539999996, 1.5721645390315686, 2.926454126666662, 2.3751200400000063, 9.785972819999994, 6.709902680000005, 3.999446480000003, 2.0304386866666637, 0.8870917533333337, 0.21675273333333553, 10.601983466666669, 1.3985369000000019, 0.622661633333334, 9.974753266666665, 6.756031399999999, 6.420154588536218, 19.575404553333332, 10.150623220000002, 10.490931946666665, 0.6979625200000027, 5.329328293333336, 0.5607843199999966, 5.462149353333332, 27.28147225333334, 1.0867541273684225, 7.7651553224561365, 20.157619302625626, 6.545879955789471, 6.0256324642105294, 7.38744838666667, 10.244704046666666, 6.671610886666666], 'period': 0, 'upperMargins': [0.3025834285714293, 41.33811325000001, 24.880042611111115, 20.49925458333333, 17.432566333333337, 10.314783233333339, 5.51203796666667, 18.649590361904767, 4.164746542857143, 0.04430648761904303, 13.715327168868612, 2.2545006457142867, 2.6100383447619064, 2.806167166666668, 10.774633539999996, 1.5721645390315684, 2.926454126666662, 2.3751200400000063, 9.785972819999994, 6.709902680000005, 3.999446480000003, 2.0304386866666637, 0.8870917533333337, 0.21675273333333553, 10.601983466666669, 1.3985369000000019, 0.622661633333334, 9.974753266666665, 6.756031399999999, 6.420154588536218, 19.575404553333332, 10.150623220000002, 10.490931946666665, 0.6979625200000027, 5.329328293333336, 0.5607843199999966, 5.462149353333332, 27.28147225333334, 1.0867541273684225, 7.7651553224561365, 20.157619302625626, 6.545879955789471, 6.0256324642105294, 7.38744838666667, 10.244704046666666, 6.671610886666666]}\n",
      "{'expectedValues': [0.5551, 0.541, 0.547, 0.54615, 0.54462, 0.5359, 0.5295, 0.522125, 0.518025, 0.507505, 0.510085, 0.5154650000000001, 0.51206, 0.5130799999999999, 0.5143599999999999, 0.5184599999999998, 0.5271799999999999, 0.5307799999999998, 0.5366799999999999, 0.54412, 0.5407800000000001, 0.5418, 0.54026, 0.5302599999999998, 0.5392199999999999, 0.54434, 0.5292200000000001, 0.5361400000000003, 0.5451200000000004, 0.5338600000000003, 0.5226000000000003], 'isAnomaly': [False, False, False, False, False, False, False, False, False, False, False, False, False, False, False, False, False, False, False, False, False, False, False, False, False, False, False, False, False, False, False], 'isNegativeAnomaly': [False, False, False, False, False, False, False, False, False, False, False, False, False, False, False, False, False, False, False, False, False, False, False, False, False, False, False, False, False, False, False], 'isPositiveAnomaly': [False, False, False, False, False, False, False, False, False, False, False, False, False, False, False, False, False, False, False, False, False, False, False, False, False, False, False, False, False, False, False], 'lowerMargins': [0.0007310000000000372, 0.014241000000000002, 0.012120000000000011, 0.0025755000000000526, 0.006181200000000014, 0.02464400000000009, 0.03494599999999996, 0.05794875000000006, 0.005125750000000052, 0.021821049999999984, 0.014458149999999967, 0.00639834999999998, 0.007029599999999966, 0.015271200000000134, 0.02228059999999991, 0.026704400000000243, 0.03860220000000014, 0.0077567999999997965, 0.02123020000000004, 0.014766200000000078, 0.012705800000000149, 0.02898700000000006, 0.025108599999999995, 0.022785599999999802, 0.03543080000000011, 0.009554599999999911, 0.03466320000000013, 0.013998599999999759, 0.0075547999999995945, 0.01601860000000032, 0.025351000000000293], 'period': 0, 'upperMargins': [0.0007310000000000372, 0.014241000000000002, 0.012120000000000011, 0.0025755000000000526, 0.006181200000000014, 0.02464400000000009, 0.03494599999999996, 0.05794875000000006, 0.005125750000000052, 0.021821049999999984, 0.014458149999999967, 0.00639834999999998, 0.007029599999999966, 0.015271200000000134, 0.02228059999999991, 0.026704400000000243, 0.03860220000000014, 0.0077567999999997965, 0.02123020000000004, 0.014766200000000078, 0.012705800000000149, 0.02898700000000006, 0.025108599999999995, 0.022785599999999802, 0.03543080000000011, 0.009554599999999911, 0.03466320000000013, 0.013998599999999759, 0.0075547999999995945, 0.01601860000000032, 0.025351000000000293]}\n",
      "{'expectedValues': [35.29, 35.32, 35.32333333333333, 35.325, 35.318, 35.33, 35.322, 35.31400000000001, 35.314, 35.321999999999996, 35.322, 35.322, 35.318, 35.314, 35.31, 35.306000000000004, 35.302, 35.31400000000001, 35.32200000000002, 35.322000000000024, 35.31400000000001, 35.3187272727273, 35.310727272727284], 'isAnomaly': [False, False, False, False, False, False, False, False, False, False, False, False, False, False, False, False, False, False, False, False, False, False, False], 'isNegativeAnomaly': [False, False, False, False, False, False, False, False, False, False, False, False, False, False, False, False, False, False, False, False, False, False, False], 'isPositiveAnomaly': [False, False, False, False, False, False, False, False, False, False, False, False, False, False, False, False, False, False, False, False, False, False, False], 'lowerMargins': [0.0005999999999986017, 0.03030000000000115, 0.006733333333334386, 0.005049999999995407, 0.02827999999999868, 0.020200000000003156, 0.01212000000000046, 0.024240000000008095, 0.01615999999999822, 0.008080000000002698, 0.02827999999999868, 0.01212000000000046, 0.04847999999999466, 0.004039999999997761, 0.0, 0.024239999999993742, 0.01212000000000046, 0.016159999999991043, 0.028279999999984328, 0.012120000000021988, 0.024240000000008095, 0.03158545454542725, 0.02093454545455799], 'period': 0, 'upperMargins': [0.0005999999999986017, 0.03030000000000115, 0.006733333333334386, 0.005049999999995407, 0.02827999999999868, 0.020200000000003156, 0.01212000000000046, 0.024240000000008095, 0.01615999999999822, 0.008080000000002698, 0.02827999999999868, 0.01212000000000046, 0.04847999999999466, 0.004039999999997761, 0.0, 0.024239999999993742, 0.01212000000000046, 0.016159999999991043, 0.028279999999984328, 0.012120000000021988, 0.024240000000008095, 0.03158545454542725, 0.02093454545455799]}\n"
     ]
    }
   ],
   "source": [
    "pHmd = processAnother(hmd)\n",
    "pHmd = pHmd[['idx','unix','timestamp', 'sec', ' Left_pos.x', ' Left_pos.y', ' Left_pos.z', \n",
    "             ' Left_rot.x', ' Left_rot.y',' Left_rot.z']]\n",
    "\n",
    "\n",
    "pEyetracker = processAnother(eyeTracker)\n",
    "pEyetracker = pEyetracker[['idx', 'unix','timestamp', 'sec', ' combined_x', ' combined_y', ' combined_z',\n",
    "                           ' r_bit', ' r_open', ' r_dir_x', ' r_dir_y', ' r_dir_z', ' r_gaze_origin_x', \n",
    "                           ' r_gaze_origin_y',' r_gaze_origin_z',' r_pupil',' r_pupil_pos',' r_pupil_pos_x',\n",
    "                           ' r_pupil_pos_y', ' r_frown', ' r_squeeze', ' r_widel_bit', ' l_open',\n",
    "                           ' l_dir_x', ' l_dir_y', ' l_dir_z', ' l_gaze_origin_x', ' l_gaze_origin_y',\n",
    "                           ' l_gaze_origin_z', ' l_pupil', ' l_pupil_pos', ' l_pupil_pos_x', ' l_pupil_pos_y',\n",
    "                           ' l_frown',' l_squeeze', ' l_wide']]\n",
    "\n",
    "requestPosX, requestPosY, requestPosZ = makeRequestHmd(pHmd)\n",
    "requestCombinedX, requestCombinedY, requestCombinedZ = makeRequestEyetracker(pEyetracker)\n",
    "\n",
    "pBvp, requestBvp = processE4(e4Bvp)\n",
    "pEda, requestEda = processE4(e4Eda)\n",
    "pTmp, requestTmp = processE4(e4Tmp)\n",
    "# pIbi, requestIbi = processE4(e4Ibi)\n",
    "# pHr, requestHr = processE4(e4Hr)\n",
    "\n",
    "\n",
    "sendPosX = makeJson(requestPosX)\n",
    "sendPosY = makeJson(requestPosY)\n",
    "sendPosZ = makeJson(requestPosZ)\n",
    "sendCombinedX = makeJson(requestCombinedX)\n",
    "sendCombinedY = makeJson(requestCombinedY)\n",
    "sendCombinedZ = makeJson(requestCombinedZ)\n",
    "\n",
    "sendBvp = makeJson(requestBvp)\n",
    "sendEda = makeJson(requestEda)\n",
    "sendTmp = makeJson(requestTmp)\n",
    "# sendIbi = makeJson(requestIbi)\n",
    "# sendHr = makeJson(requestHr)\n",
    "\n",
    "\n",
    "anomalyPosX = getResult(sendPosX)\n",
    "anomalyPosY = getResult(sendPosY)\n",
    "anomalyPosZ = getResult(sendPosZ)\n",
    "anomalyCombinedX = getResult(sendCombinedX)\n",
    "anomalyCombinedY = getResult(sendCombinedY)\n",
    "anomalyCombinedZ = getResult(sendCombinedZ)\n",
    "anomalyBvp = getResult(sendBvp)\n",
    "anomalyEda = getResult(sendEda)\n",
    "anomalyTmp = getResult(sendTmp)\n",
    "# anomalyIbi = getResult(sendIbi)\n",
    "# anomalyHr = getResult(sendHr)\n"
   ]
  },
  {
   "cell_type": "code",
   "execution_count": 39,
   "id": "6a49e7ce",
   "metadata": {
    "scrolled": true
   },
   "outputs": [
    {
     "data": {
      "text/plain": [
       "-0.5292052380952386"
      ]
     },
     "execution_count": 39,
     "metadata": {},
     "output_type": "execute_result"
    }
   ],
   "source": [
    "requestBvp['value'].mean()"
   ]
  },
  {
   "cell_type": "code",
   "execution_count": 51,
   "id": "40c98231",
   "metadata": {},
   "outputs": [],
   "source": [
    "client = AnomalyDetectorClient(AzureKeyCredential(SUBSCRIPTION_KEY), ANOMALY_DETECTOR_ENDPOINT)"
   ]
  },
  {
   "cell_type": "code",
   "execution_count": 61,
   "id": "83e0795d",
   "metadata": {},
   "outputs": [],
   "source": [
    "series = []\n",
    "data_file = pd.read_csv(TIME_SERIES_DATA_PATH, header=None, encoding='utf-8',  date_parser=[0])\n",
    "for index, row in data_file.iterrows():\n",
    "    series.append(TimeSeriesPoint(timestamp=row[0], value=row[1]))"
   ]
  },
  {
   "cell_type": "code",
   "execution_count": 62,
   "id": "9dff9027",
   "metadata": {},
   "outputs": [],
   "source": [
    "request = DetectRequest(series=series, granularity=TimeGranularity.DAILY)"
   ]
  },
  {
   "cell_type": "code",
   "execution_count": 63,
   "id": "cc2c38f3",
   "metadata": {
    "scrolled": true
   },
   "outputs": [
    {
     "name": "stdout",
     "output_type": "stream",
     "text": [
      "Detecting anomalies in the entire time series.\n"
     ]
    },
    {
     "ename": "TypeError",
     "evalue": "catching classes that do not inherit from BaseException is not allowed",
     "output_type": "error",
     "traceback": [
      "\u001b[0;31m---------------------------------------------------------------------------\u001b[0m",
      "\u001b[0;31mResourceNotFoundError\u001b[0m                     Traceback (most recent call last)",
      "\u001b[0;32m/var/folders/bt/g_w68s9x2m5dw3zhqnm9d3d00000gn/T/ipykernel_12519/97025912.py\u001b[0m in \u001b[0;36m<module>\u001b[0;34m\u001b[0m\n\u001b[1;32m      3\u001b[0m \u001b[0;32mtry\u001b[0m\u001b[0;34m:\u001b[0m\u001b[0;34m\u001b[0m\u001b[0;34m\u001b[0m\u001b[0m\n\u001b[0;32m----> 4\u001b[0;31m     \u001b[0mresponse\u001b[0m \u001b[0;34m=\u001b[0m \u001b[0mclient\u001b[0m\u001b[0;34m.\u001b[0m\u001b[0mdetect_entire_series\u001b[0m\u001b[0;34m(\u001b[0m\u001b[0mrequest\u001b[0m\u001b[0;34m)\u001b[0m\u001b[0;34m\u001b[0m\u001b[0;34m\u001b[0m\u001b[0m\n\u001b[0m\u001b[1;32m      5\u001b[0m \u001b[0;32mexcept\u001b[0m \u001b[0mAnomalyDetectorError\u001b[0m \u001b[0;32mas\u001b[0m \u001b[0me\u001b[0m\u001b[0;34m:\u001b[0m\u001b[0;34m\u001b[0m\u001b[0;34m\u001b[0m\u001b[0m\n",
      "\u001b[0;32m~/miniforge3/envs/v-dat/lib/python3.9/site-packages/azure/core/tracing/decorator.py\u001b[0m in \u001b[0;36mwrapper_use_tracer\u001b[0;34m(*args, **kwargs)\u001b[0m\n\u001b[1;32m     82\u001b[0m             \u001b[0;32mif\u001b[0m \u001b[0mspan_impl_type\u001b[0m \u001b[0;32mis\u001b[0m \u001b[0;32mNone\u001b[0m\u001b[0;34m:\u001b[0m\u001b[0;34m\u001b[0m\u001b[0;34m\u001b[0m\u001b[0m\n\u001b[0;32m---> 83\u001b[0;31m                 \u001b[0;32mreturn\u001b[0m \u001b[0mfunc\u001b[0m\u001b[0;34m(\u001b[0m\u001b[0;34m*\u001b[0m\u001b[0margs\u001b[0m\u001b[0;34m,\u001b[0m \u001b[0;34m**\u001b[0m\u001b[0mkwargs\u001b[0m\u001b[0;34m)\u001b[0m\u001b[0;34m\u001b[0m\u001b[0;34m\u001b[0m\u001b[0m\n\u001b[0m\u001b[1;32m     84\u001b[0m \u001b[0;34m\u001b[0m\u001b[0m\n",
      "\u001b[0;32m~/miniforge3/envs/v-dat/lib/python3.9/site-packages/azure/ai/anomalydetector/operations/_anomaly_detector_client_operations.py\u001b[0m in \u001b[0;36mdetect_entire_series\u001b[0;34m(self, body, **kwargs)\u001b[0m\n\u001b[1;32m    376\u001b[0m         \u001b[0;32mif\u001b[0m \u001b[0mresponse\u001b[0m\u001b[0;34m.\u001b[0m\u001b[0mstatus_code\u001b[0m \u001b[0;32mnot\u001b[0m \u001b[0;32min\u001b[0m \u001b[0;34m[\u001b[0m\u001b[0;36m200\u001b[0m\u001b[0;34m]\u001b[0m\u001b[0;34m:\u001b[0m\u001b[0;34m\u001b[0m\u001b[0;34m\u001b[0m\u001b[0m\n\u001b[0;32m--> 377\u001b[0;31m             \u001b[0mmap_error\u001b[0m\u001b[0;34m(\u001b[0m\u001b[0mstatus_code\u001b[0m\u001b[0;34m=\u001b[0m\u001b[0mresponse\u001b[0m\u001b[0;34m.\u001b[0m\u001b[0mstatus_code\u001b[0m\u001b[0;34m,\u001b[0m \u001b[0mresponse\u001b[0m\u001b[0;34m=\u001b[0m\u001b[0mresponse\u001b[0m\u001b[0;34m,\u001b[0m \u001b[0merror_map\u001b[0m\u001b[0;34m=\u001b[0m\u001b[0merror_map\u001b[0m\u001b[0;34m)\u001b[0m\u001b[0;34m\u001b[0m\u001b[0;34m\u001b[0m\u001b[0m\n\u001b[0m\u001b[1;32m    378\u001b[0m             \u001b[0merror\u001b[0m \u001b[0;34m=\u001b[0m \u001b[0mself\u001b[0m\u001b[0;34m.\u001b[0m\u001b[0m_deserialize\u001b[0m\u001b[0;34m.\u001b[0m\u001b[0mfailsafe_deserialize\u001b[0m\u001b[0;34m(\u001b[0m\u001b[0m_models\u001b[0m\u001b[0;34m.\u001b[0m\u001b[0mAnomalyDetectorError\u001b[0m\u001b[0;34m,\u001b[0m \u001b[0mpipeline_response\u001b[0m\u001b[0;34m)\u001b[0m\u001b[0;34m\u001b[0m\u001b[0;34m\u001b[0m\u001b[0m\n",
      "\u001b[0;32m~/miniforge3/envs/v-dat/lib/python3.9/site-packages/azure/core/exceptions.py\u001b[0m in \u001b[0;36mmap_error\u001b[0;34m(status_code, response, error_map)\u001b[0m\n\u001b[1;32m    104\u001b[0m     \u001b[0merror\u001b[0m \u001b[0;34m=\u001b[0m \u001b[0merror_type\u001b[0m\u001b[0;34m(\u001b[0m\u001b[0mresponse\u001b[0m\u001b[0;34m=\u001b[0m\u001b[0mresponse\u001b[0m\u001b[0;34m)\u001b[0m\u001b[0;34m\u001b[0m\u001b[0;34m\u001b[0m\u001b[0m\n\u001b[0;32m--> 105\u001b[0;31m     \u001b[0;32mraise\u001b[0m \u001b[0merror\u001b[0m\u001b[0;34m\u001b[0m\u001b[0;34m\u001b[0m\u001b[0m\n\u001b[0m\u001b[1;32m    106\u001b[0m \u001b[0;34m\u001b[0m\u001b[0m\n",
      "\u001b[0;31mResourceNotFoundError\u001b[0m: (404) Resource not found\nCode: 404\nMessage: Resource not found",
      "\nDuring handling of the above exception, another exception occurred:\n",
      "\u001b[0;31mTypeError\u001b[0m                                 Traceback (most recent call last)",
      "\u001b[0;32m/var/folders/bt/g_w68s9x2m5dw3zhqnm9d3d00000gn/T/ipykernel_12519/97025912.py\u001b[0m in \u001b[0;36m<module>\u001b[0;34m\u001b[0m\n\u001b[1;32m      3\u001b[0m \u001b[0;32mtry\u001b[0m\u001b[0;34m:\u001b[0m\u001b[0;34m\u001b[0m\u001b[0;34m\u001b[0m\u001b[0m\n\u001b[1;32m      4\u001b[0m     \u001b[0mresponse\u001b[0m \u001b[0;34m=\u001b[0m \u001b[0mclient\u001b[0m\u001b[0;34m.\u001b[0m\u001b[0mdetect_entire_series\u001b[0m\u001b[0;34m(\u001b[0m\u001b[0mrequest\u001b[0m\u001b[0;34m)\u001b[0m\u001b[0;34m\u001b[0m\u001b[0;34m\u001b[0m\u001b[0m\n\u001b[0;32m----> 5\u001b[0;31m \u001b[0;32mexcept\u001b[0m \u001b[0mAnomalyDetectorError\u001b[0m \u001b[0;32mas\u001b[0m \u001b[0me\u001b[0m\u001b[0;34m:\u001b[0m\u001b[0;34m\u001b[0m\u001b[0;34m\u001b[0m\u001b[0m\n\u001b[0m\u001b[1;32m      6\u001b[0m     \u001b[0mprint\u001b[0m\u001b[0;34m(\u001b[0m\u001b[0;34m'Error code: {}'\u001b[0m\u001b[0;34m.\u001b[0m\u001b[0mformat\u001b[0m\u001b[0;34m(\u001b[0m\u001b[0me\u001b[0m\u001b[0;34m.\u001b[0m\u001b[0merror\u001b[0m\u001b[0;34m.\u001b[0m\u001b[0mcode\u001b[0m\u001b[0;34m)\u001b[0m\u001b[0;34m,\u001b[0m \u001b[0;34m'Error message: {}'\u001b[0m\u001b[0;34m.\u001b[0m\u001b[0mformat\u001b[0m\u001b[0;34m(\u001b[0m\u001b[0me\u001b[0m\u001b[0;34m.\u001b[0m\u001b[0merror\u001b[0m\u001b[0;34m.\u001b[0m\u001b[0mmessage\u001b[0m\u001b[0;34m)\u001b[0m\u001b[0;34m)\u001b[0m\u001b[0;34m\u001b[0m\u001b[0;34m\u001b[0m\u001b[0m\n\u001b[1;32m      7\u001b[0m \u001b[0;32mexcept\u001b[0m \u001b[0mException\u001b[0m \u001b[0;32mas\u001b[0m \u001b[0me\u001b[0m\u001b[0;34m:\u001b[0m\u001b[0;34m\u001b[0m\u001b[0;34m\u001b[0m\u001b[0m\n",
      "\u001b[0;31mTypeError\u001b[0m: catching classes that do not inherit from BaseException is not allowed"
     ]
    }
   ],
   "source": [
    "print('Detecting anomalies in the entire time series.')\n",
    "\n",
    "try:\n",
    "    response = client.detect_entire_series(request)\n",
    "except AnomalyDetectorError as e:\n",
    "    print('Error code: {}'.format(e.error.code), 'Error message: {}'.format(e.error.message))\n",
    "except Exception as e:\n",
    "    print(e)\n",
    "\n",
    "if any(response.is_anomaly):\n",
    "    print('An anomaly was detected at index:')\n",
    "    for i, value in enumerate(response.is_anomaly):\n",
    "        if value:\n",
    "            print(i)\n",
    "else:\n",
    "    print('No anomalies were detected in the time series.')"
   ]
  },
  {
   "cell_type": "code",
   "execution_count": 17,
   "id": "80953b92",
   "metadata": {},
   "outputs": [
    {
     "name": "stdout",
     "output_type": "stream",
     "text": [
      "Detecting the anomaly status of the latest data point.\n"
     ]
    },
    {
     "ename": "TypeError",
     "evalue": "catching classes that do not inherit from BaseException is not allowed",
     "output_type": "error",
     "traceback": [
      "\u001b[0;31m---------------------------------------------------------------------------\u001b[0m",
      "\u001b[0;31mTypeError\u001b[0m                                 Traceback (most recent call last)",
      "\u001b[0;32m~/miniforge3/envs/v-dat/lib/python3.9/site-packages/msrest/serialization.py\u001b[0m in \u001b[0;36mserialize_data\u001b[0;34m(self, data, data_type, **kwargs)\u001b[0m\n\u001b[1;32m    764\u001b[0m             \u001b[0;32melif\u001b[0m \u001b[0mdata_type\u001b[0m \u001b[0;32min\u001b[0m \u001b[0mself\u001b[0m\u001b[0;34m.\u001b[0m\u001b[0mserialize_type\u001b[0m\u001b[0;34m:\u001b[0m\u001b[0;34m\u001b[0m\u001b[0;34m\u001b[0m\u001b[0m\n\u001b[0;32m--> 765\u001b[0;31m                 \u001b[0;32mreturn\u001b[0m \u001b[0mself\u001b[0m\u001b[0;34m.\u001b[0m\u001b[0mserialize_type\u001b[0m\u001b[0;34m[\u001b[0m\u001b[0mdata_type\u001b[0m\u001b[0;34m]\u001b[0m\u001b[0;34m(\u001b[0m\u001b[0mdata\u001b[0m\u001b[0;34m,\u001b[0m \u001b[0;34m**\u001b[0m\u001b[0mkwargs\u001b[0m\u001b[0;34m)\u001b[0m\u001b[0;34m\u001b[0m\u001b[0;34m\u001b[0m\u001b[0m\n\u001b[0m\u001b[1;32m    766\u001b[0m \u001b[0;34m\u001b[0m\u001b[0m\n",
      "\u001b[0;32m~/miniforge3/envs/v-dat/lib/python3.9/site-packages/msrest/serialization.py\u001b[0m in \u001b[0;36mserialize_iso\u001b[0;34m(attr, **kwargs)\u001b[0m\n\u001b[1;32m   1116\u001b[0m                     \"Datetime with no tzinfo will be considered UTC.\")\n\u001b[0;32m-> 1117\u001b[0;31m             \u001b[0mutc\u001b[0m \u001b[0;34m=\u001b[0m \u001b[0mattr\u001b[0m\u001b[0;34m.\u001b[0m\u001b[0mutctimetuple\u001b[0m\u001b[0;34m(\u001b[0m\u001b[0;34m)\u001b[0m\u001b[0;34m\u001b[0m\u001b[0;34m\u001b[0m\u001b[0m\n\u001b[0m\u001b[1;32m   1118\u001b[0m             \u001b[0;32mif\u001b[0m \u001b[0mutc\u001b[0m\u001b[0;34m.\u001b[0m\u001b[0mtm_year\u001b[0m \u001b[0;34m>\u001b[0m \u001b[0;36m9999\u001b[0m \u001b[0;32mor\u001b[0m \u001b[0mutc\u001b[0m\u001b[0;34m.\u001b[0m\u001b[0mtm_year\u001b[0m \u001b[0;34m<\u001b[0m \u001b[0;36m1\u001b[0m\u001b[0;34m:\u001b[0m\u001b[0;34m\u001b[0m\u001b[0;34m\u001b[0m\u001b[0m\n",
      "\u001b[0;32m~/miniforge3/envs/v-dat/lib/python3.9/site-packages/pandas/_libs/tslibs/timestamps.pyx\u001b[0m in \u001b[0;36mpandas._libs.tslibs.timestamps.Timestamp.__new__\u001b[0;34m()\u001b[0m\n",
      "\u001b[0;31mTypeError\u001b[0m: an integer is required",
      "\nDuring handling of the above exception, another exception occurred:\n",
      "\u001b[0;31mSerializationError\u001b[0m                        Traceback (most recent call last)",
      "\u001b[0;32m/var/folders/bt/g_w68s9x2m5dw3zhqnm9d3d00000gn/T/ipykernel_55456/2016782537.py\u001b[0m in \u001b[0;36m<module>\u001b[0;34m\u001b[0m\n\u001b[1;32m      3\u001b[0m \u001b[0;32mtry\u001b[0m\u001b[0;34m:\u001b[0m\u001b[0;34m\u001b[0m\u001b[0;34m\u001b[0m\u001b[0m\n\u001b[0;32m----> 4\u001b[0;31m     \u001b[0mresponse\u001b[0m \u001b[0;34m=\u001b[0m \u001b[0mclient\u001b[0m\u001b[0;34m.\u001b[0m\u001b[0mdetect_last_point\u001b[0m\u001b[0;34m(\u001b[0m\u001b[0mrequest\u001b[0m\u001b[0;34m)\u001b[0m\u001b[0;34m\u001b[0m\u001b[0;34m\u001b[0m\u001b[0m\n\u001b[0m\u001b[1;32m      5\u001b[0m \u001b[0;32mexcept\u001b[0m \u001b[0mAnomalyDetectorError\u001b[0m \u001b[0;32mas\u001b[0m \u001b[0me\u001b[0m\u001b[0;34m:\u001b[0m\u001b[0;34m\u001b[0m\u001b[0;34m\u001b[0m\u001b[0m\n",
      "\u001b[0;32m~/miniforge3/envs/v-dat/lib/python3.9/site-packages/azure/core/tracing/decorator.py\u001b[0m in \u001b[0;36mwrapper_use_tracer\u001b[0;34m(*args, **kwargs)\u001b[0m\n\u001b[1;32m     82\u001b[0m             \u001b[0;32mif\u001b[0m \u001b[0mspan_impl_type\u001b[0m \u001b[0;32mis\u001b[0m \u001b[0;32mNone\u001b[0m\u001b[0;34m:\u001b[0m\u001b[0;34m\u001b[0m\u001b[0;34m\u001b[0m\u001b[0m\n\u001b[0;32m---> 83\u001b[0;31m                 \u001b[0;32mreturn\u001b[0m \u001b[0mfunc\u001b[0m\u001b[0;34m(\u001b[0m\u001b[0;34m*\u001b[0m\u001b[0margs\u001b[0m\u001b[0;34m,\u001b[0m \u001b[0;34m**\u001b[0m\u001b[0mkwargs\u001b[0m\u001b[0;34m)\u001b[0m\u001b[0;34m\u001b[0m\u001b[0;34m\u001b[0m\u001b[0m\n\u001b[0m\u001b[1;32m     84\u001b[0m \u001b[0;34m\u001b[0m\u001b[0m\n",
      "\u001b[0;32m~/miniforge3/envs/v-dat/lib/python3.9/site-packages/azure/ai/anomalydetector/operations/_anomaly_detector_client_operations.py\u001b[0m in \u001b[0;36mdetect_last_point\u001b[0;34m(self, body, **kwargs)\u001b[0m\n\u001b[1;32m    423\u001b[0m \u001b[0;34m\u001b[0m\u001b[0m\n\u001b[0;32m--> 424\u001b[0;31m         \u001b[0m_json\u001b[0m \u001b[0;34m=\u001b[0m \u001b[0mself\u001b[0m\u001b[0;34m.\u001b[0m\u001b[0m_serialize\u001b[0m\u001b[0;34m.\u001b[0m\u001b[0mbody\u001b[0m\u001b[0;34m(\u001b[0m\u001b[0mbody\u001b[0m\u001b[0;34m,\u001b[0m \u001b[0;34m'DetectRequest'\u001b[0m\u001b[0;34m)\u001b[0m\u001b[0;34m\u001b[0m\u001b[0;34m\u001b[0m\u001b[0m\n\u001b[0m\u001b[1;32m    425\u001b[0m \u001b[0;34m\u001b[0m\u001b[0m\n",
      "\u001b[0;32m~/miniforge3/envs/v-dat/lib/python3.9/site-packages/msrest/serialization.py\u001b[0m in \u001b[0;36mbody\u001b[0;34m(self, data, data_type, **kwargs)\u001b[0m\n\u001b[1;32m    628\u001b[0m                 \u001b[0;32mraise\u001b[0m \u001b[0merrors\u001b[0m\u001b[0;34m[\u001b[0m\u001b[0;36m0\u001b[0m\u001b[0;34m]\u001b[0m\u001b[0;34m\u001b[0m\u001b[0;34m\u001b[0m\u001b[0m\n\u001b[0;32m--> 629\u001b[0;31m         \u001b[0;32mreturn\u001b[0m \u001b[0mself\u001b[0m\u001b[0;34m.\u001b[0m\u001b[0m_serialize\u001b[0m\u001b[0;34m(\u001b[0m\u001b[0mdata\u001b[0m\u001b[0;34m,\u001b[0m \u001b[0mdata_type\u001b[0m\u001b[0;34m,\u001b[0m \u001b[0;34m**\u001b[0m\u001b[0mkwargs\u001b[0m\u001b[0;34m)\u001b[0m\u001b[0;34m\u001b[0m\u001b[0;34m\u001b[0m\u001b[0m\n\u001b[0m\u001b[1;32m    630\u001b[0m \u001b[0;34m\u001b[0m\u001b[0m\n",
      "\u001b[0;32m~/miniforge3/envs/v-dat/lib/python3.9/site-packages/msrest/serialization.py\u001b[0m in \u001b[0;36m_serialize\u001b[0;34m(self, target_obj, data_type, **kwargs)\u001b[0m\n\u001b[1;32m    482\u001b[0m         \u001b[0;32mif\u001b[0m \u001b[0mdata_type\u001b[0m\u001b[0;34m:\u001b[0m\u001b[0;34m\u001b[0m\u001b[0;34m\u001b[0m\u001b[0m\n\u001b[0;32m--> 483\u001b[0;31m             return self.serialize_data(\n\u001b[0m\u001b[1;32m    484\u001b[0m                 target_obj, data_type, **kwargs)\n",
      "\u001b[0;32m~/miniforge3/envs/v-dat/lib/python3.9/site-packages/msrest/serialization.py\u001b[0m in \u001b[0;36mserialize_data\u001b[0;34m(self, data, data_type, **kwargs)\u001b[0m\n\u001b[1;32m    782\u001b[0m         \u001b[0;32melse\u001b[0m\u001b[0;34m:\u001b[0m\u001b[0;34m\u001b[0m\u001b[0;34m\u001b[0m\u001b[0m\n\u001b[0;32m--> 783\u001b[0;31m             \u001b[0;32mreturn\u001b[0m \u001b[0mself\u001b[0m\u001b[0;34m.\u001b[0m\u001b[0m_serialize\u001b[0m\u001b[0;34m(\u001b[0m\u001b[0mdata\u001b[0m\u001b[0;34m,\u001b[0m \u001b[0;34m**\u001b[0m\u001b[0mkwargs\u001b[0m\u001b[0;34m)\u001b[0m\u001b[0;34m\u001b[0m\u001b[0;34m\u001b[0m\u001b[0m\n\u001b[0m\u001b[1;32m    784\u001b[0m \u001b[0;34m\u001b[0m\u001b[0m\n",
      "\u001b[0;32m~/miniforge3/envs/v-dat/lib/python3.9/site-packages/msrest/serialization.py\u001b[0m in \u001b[0;36m_serialize\u001b[0;34m(self, target_obj, data_type, **kwargs)\u001b[0m\n\u001b[1;32m    522\u001b[0m                     \u001b[0mkwargs\u001b[0m\u001b[0;34m[\u001b[0m\u001b[0;34m\"serialization_ctxt\"\u001b[0m\u001b[0;34m]\u001b[0m \u001b[0;34m=\u001b[0m \u001b[0mattr_desc\u001b[0m\u001b[0;34m\u001b[0m\u001b[0;34m\u001b[0m\u001b[0m\n\u001b[0;32m--> 523\u001b[0;31m                     \u001b[0mnew_attr\u001b[0m \u001b[0;34m=\u001b[0m \u001b[0mself\u001b[0m\u001b[0;34m.\u001b[0m\u001b[0mserialize_data\u001b[0m\u001b[0;34m(\u001b[0m\u001b[0morig_attr\u001b[0m\u001b[0;34m,\u001b[0m \u001b[0mattr_desc\u001b[0m\u001b[0;34m[\u001b[0m\u001b[0;34m'type'\u001b[0m\u001b[0;34m]\u001b[0m\u001b[0;34m,\u001b[0m \u001b[0;34m**\u001b[0m\u001b[0mkwargs\u001b[0m\u001b[0;34m)\u001b[0m\u001b[0;34m\u001b[0m\u001b[0;34m\u001b[0m\u001b[0m\n\u001b[0m\u001b[1;32m    524\u001b[0m \u001b[0;34m\u001b[0m\u001b[0m\n",
      "\u001b[0;32m~/miniforge3/envs/v-dat/lib/python3.9/site-packages/msrest/serialization.py\u001b[0m in \u001b[0;36mserialize_data\u001b[0;34m(self, data, data_type, **kwargs)\u001b[0m\n\u001b[1;32m    774\u001b[0m             \u001b[0;32mif\u001b[0m \u001b[0miter_type\u001b[0m \u001b[0;32min\u001b[0m \u001b[0mself\u001b[0m\u001b[0;34m.\u001b[0m\u001b[0mserialize_type\u001b[0m\u001b[0;34m:\u001b[0m\u001b[0;34m\u001b[0m\u001b[0;34m\u001b[0m\u001b[0m\n\u001b[0;32m--> 775\u001b[0;31m                 return self.serialize_type[iter_type](\n\u001b[0m\u001b[1;32m    776\u001b[0m                     data, data_type[1:-1], **kwargs)\n",
      "\u001b[0;32m~/miniforge3/envs/v-dat/lib/python3.9/site-packages/msrest/serialization.py\u001b[0m in \u001b[0;36mserialize_iter\u001b[0;34m(self, data, iter_type, div, **kwargs)\u001b[0m\n\u001b[1;32m    859\u001b[0m             \u001b[0;32mtry\u001b[0m\u001b[0;34m:\u001b[0m\u001b[0;34m\u001b[0m\u001b[0;34m\u001b[0m\u001b[0m\n\u001b[0;32m--> 860\u001b[0;31m                 \u001b[0mserialized\u001b[0m\u001b[0;34m.\u001b[0m\u001b[0mappend\u001b[0m\u001b[0;34m(\u001b[0m\u001b[0mself\u001b[0m\u001b[0;34m.\u001b[0m\u001b[0mserialize_data\u001b[0m\u001b[0;34m(\u001b[0m\u001b[0md\u001b[0m\u001b[0;34m,\u001b[0m \u001b[0miter_type\u001b[0m\u001b[0;34m,\u001b[0m \u001b[0;34m**\u001b[0m\u001b[0mkwargs\u001b[0m\u001b[0;34m)\u001b[0m\u001b[0;34m)\u001b[0m\u001b[0;34m\u001b[0m\u001b[0;34m\u001b[0m\u001b[0m\n\u001b[0m\u001b[1;32m    861\u001b[0m             \u001b[0;32mexcept\u001b[0m \u001b[0mValueError\u001b[0m\u001b[0;34m:\u001b[0m\u001b[0;34m\u001b[0m\u001b[0;34m\u001b[0m\u001b[0m\n",
      "\u001b[0;32m~/miniforge3/envs/v-dat/lib/python3.9/site-packages/msrest/serialization.py\u001b[0m in \u001b[0;36mserialize_data\u001b[0;34m(self, data, data_type, **kwargs)\u001b[0m\n\u001b[1;32m    782\u001b[0m         \u001b[0;32melse\u001b[0m\u001b[0;34m:\u001b[0m\u001b[0;34m\u001b[0m\u001b[0;34m\u001b[0m\u001b[0m\n\u001b[0;32m--> 783\u001b[0;31m             \u001b[0;32mreturn\u001b[0m \u001b[0mself\u001b[0m\u001b[0;34m.\u001b[0m\u001b[0m_serialize\u001b[0m\u001b[0;34m(\u001b[0m\u001b[0mdata\u001b[0m\u001b[0;34m,\u001b[0m \u001b[0;34m**\u001b[0m\u001b[0mkwargs\u001b[0m\u001b[0;34m)\u001b[0m\u001b[0;34m\u001b[0m\u001b[0;34m\u001b[0m\u001b[0m\n\u001b[0m\u001b[1;32m    784\u001b[0m \u001b[0;34m\u001b[0m\u001b[0m\n",
      "\u001b[0;32m~/miniforge3/envs/v-dat/lib/python3.9/site-packages/msrest/serialization.py\u001b[0m in \u001b[0;36m_serialize\u001b[0;34m(self, target_obj, data_type, **kwargs)\u001b[0m\n\u001b[1;32m    522\u001b[0m                     \u001b[0mkwargs\u001b[0m\u001b[0;34m[\u001b[0m\u001b[0;34m\"serialization_ctxt\"\u001b[0m\u001b[0;34m]\u001b[0m \u001b[0;34m=\u001b[0m \u001b[0mattr_desc\u001b[0m\u001b[0;34m\u001b[0m\u001b[0;34m\u001b[0m\u001b[0m\n\u001b[0;32m--> 523\u001b[0;31m                     \u001b[0mnew_attr\u001b[0m \u001b[0;34m=\u001b[0m \u001b[0mself\u001b[0m\u001b[0;34m.\u001b[0m\u001b[0mserialize_data\u001b[0m\u001b[0;34m(\u001b[0m\u001b[0morig_attr\u001b[0m\u001b[0;34m,\u001b[0m \u001b[0mattr_desc\u001b[0m\u001b[0;34m[\u001b[0m\u001b[0;34m'type'\u001b[0m\u001b[0;34m]\u001b[0m\u001b[0;34m,\u001b[0m \u001b[0;34m**\u001b[0m\u001b[0mkwargs\u001b[0m\u001b[0;34m)\u001b[0m\u001b[0;34m\u001b[0m\u001b[0;34m\u001b[0m\u001b[0m\n\u001b[0m\u001b[1;32m    524\u001b[0m \u001b[0;34m\u001b[0m\u001b[0m\n",
      "\u001b[0;32m~/miniforge3/envs/v-dat/lib/python3.9/site-packages/msrest/serialization.py\u001b[0m in \u001b[0;36mserialize_data\u001b[0;34m(self, data, data_type, **kwargs)\u001b[0m\n\u001b[1;32m    779\u001b[0m             \u001b[0mmsg\u001b[0m \u001b[0;34m=\u001b[0m \u001b[0;34m\"Unable to serialize value: {!r} as type: {!r}.\"\u001b[0m\u001b[0;34m\u001b[0m\u001b[0;34m\u001b[0m\u001b[0m\n\u001b[0;32m--> 780\u001b[0;31m             raise_with_traceback(\n\u001b[0m\u001b[1;32m    781\u001b[0m                 SerializationError, msg.format(data, data_type), err)\n",
      "\u001b[0;32m~/miniforge3/envs/v-dat/lib/python3.9/site-packages/msrest/exceptions.py\u001b[0m in \u001b[0;36mraise_with_traceback\u001b[0;34m(exception, message, *args, **kwargs)\u001b[0m\n\u001b[1;32m     50\u001b[0m     \u001b[0;32mtry\u001b[0m\u001b[0;34m:\u001b[0m\u001b[0;34m\u001b[0m\u001b[0;34m\u001b[0m\u001b[0m\n\u001b[0;32m---> 51\u001b[0;31m         \u001b[0;32mraise\u001b[0m \u001b[0merror\u001b[0m\u001b[0;34m.\u001b[0m\u001b[0mwith_traceback\u001b[0m\u001b[0;34m(\u001b[0m\u001b[0mexc_traceback\u001b[0m\u001b[0;34m)\u001b[0m\u001b[0;34m\u001b[0m\u001b[0;34m\u001b[0m\u001b[0m\n\u001b[0m\u001b[1;32m     52\u001b[0m     \u001b[0;32mexcept\u001b[0m \u001b[0mAttributeError\u001b[0m\u001b[0;34m:\u001b[0m\u001b[0;34m\u001b[0m\u001b[0;34m\u001b[0m\u001b[0m\n",
      "\u001b[0;32m~/miniforge3/envs/v-dat/lib/python3.9/site-packages/msrest/serialization.py\u001b[0m in \u001b[0;36mserialize_data\u001b[0;34m(self, data, data_type, **kwargs)\u001b[0m\n\u001b[1;32m    764\u001b[0m             \u001b[0;32melif\u001b[0m \u001b[0mdata_type\u001b[0m \u001b[0;32min\u001b[0m \u001b[0mself\u001b[0m\u001b[0;34m.\u001b[0m\u001b[0mserialize_type\u001b[0m\u001b[0;34m:\u001b[0m\u001b[0;34m\u001b[0m\u001b[0;34m\u001b[0m\u001b[0m\n\u001b[0;32m--> 765\u001b[0;31m                 \u001b[0;32mreturn\u001b[0m \u001b[0mself\u001b[0m\u001b[0;34m.\u001b[0m\u001b[0mserialize_type\u001b[0m\u001b[0;34m[\u001b[0m\u001b[0mdata_type\u001b[0m\u001b[0;34m]\u001b[0m\u001b[0;34m(\u001b[0m\u001b[0mdata\u001b[0m\u001b[0;34m,\u001b[0m \u001b[0;34m**\u001b[0m\u001b[0mkwargs\u001b[0m\u001b[0;34m)\u001b[0m\u001b[0;34m\u001b[0m\u001b[0;34m\u001b[0m\u001b[0m\n\u001b[0m\u001b[1;32m    766\u001b[0m \u001b[0;34m\u001b[0m\u001b[0m\n",
      "\u001b[0;32m~/miniforge3/envs/v-dat/lib/python3.9/site-packages/msrest/serialization.py\u001b[0m in \u001b[0;36mserialize_iso\u001b[0;34m(attr, **kwargs)\u001b[0m\n\u001b[1;32m   1116\u001b[0m                     \"Datetime with no tzinfo will be considered UTC.\")\n\u001b[0;32m-> 1117\u001b[0;31m             \u001b[0mutc\u001b[0m \u001b[0;34m=\u001b[0m \u001b[0mattr\u001b[0m\u001b[0;34m.\u001b[0m\u001b[0mutctimetuple\u001b[0m\u001b[0;34m(\u001b[0m\u001b[0;34m)\u001b[0m\u001b[0;34m\u001b[0m\u001b[0;34m\u001b[0m\u001b[0m\n\u001b[0m\u001b[1;32m   1118\u001b[0m             \u001b[0;32mif\u001b[0m \u001b[0mutc\u001b[0m\u001b[0;34m.\u001b[0m\u001b[0mtm_year\u001b[0m \u001b[0;34m>\u001b[0m \u001b[0;36m9999\u001b[0m \u001b[0;32mor\u001b[0m \u001b[0mutc\u001b[0m\u001b[0;34m.\u001b[0m\u001b[0mtm_year\u001b[0m \u001b[0;34m<\u001b[0m \u001b[0;36m1\u001b[0m\u001b[0;34m:\u001b[0m\u001b[0;34m\u001b[0m\u001b[0;34m\u001b[0m\u001b[0m\n",
      "\u001b[0;32m~/miniforge3/envs/v-dat/lib/python3.9/site-packages/pandas/_libs/tslibs/timestamps.pyx\u001b[0m in \u001b[0;36mpandas._libs.tslibs.timestamps.Timestamp.__new__\u001b[0;34m()\u001b[0m\n",
      "\u001b[0;31mSerializationError\u001b[0m: Unable to serialize value: Timestamp('2018-03-01 00:00:00+0000', tz='UTC') as type: 'iso-8601'., TypeError: an integer is required",
      "\nDuring handling of the above exception, another exception occurred:\n",
      "\u001b[0;31mTypeError\u001b[0m                                 Traceback (most recent call last)",
      "\u001b[0;32m/var/folders/bt/g_w68s9x2m5dw3zhqnm9d3d00000gn/T/ipykernel_55456/2016782537.py\u001b[0m in \u001b[0;36m<module>\u001b[0;34m\u001b[0m\n\u001b[1;32m      3\u001b[0m \u001b[0;32mtry\u001b[0m\u001b[0;34m:\u001b[0m\u001b[0;34m\u001b[0m\u001b[0;34m\u001b[0m\u001b[0m\n\u001b[1;32m      4\u001b[0m     \u001b[0mresponse\u001b[0m \u001b[0;34m=\u001b[0m \u001b[0mclient\u001b[0m\u001b[0;34m.\u001b[0m\u001b[0mdetect_last_point\u001b[0m\u001b[0;34m(\u001b[0m\u001b[0mrequest\u001b[0m\u001b[0;34m)\u001b[0m\u001b[0;34m\u001b[0m\u001b[0;34m\u001b[0m\u001b[0m\n\u001b[0;32m----> 5\u001b[0;31m \u001b[0;32mexcept\u001b[0m \u001b[0mAnomalyDetectorError\u001b[0m \u001b[0;32mas\u001b[0m \u001b[0me\u001b[0m\u001b[0;34m:\u001b[0m\u001b[0;34m\u001b[0m\u001b[0;34m\u001b[0m\u001b[0m\n\u001b[0m\u001b[1;32m      6\u001b[0m     \u001b[0mprint\u001b[0m\u001b[0;34m(\u001b[0m\u001b[0;34m'Error code: {}'\u001b[0m\u001b[0;34m.\u001b[0m\u001b[0mformat\u001b[0m\u001b[0;34m(\u001b[0m\u001b[0me\u001b[0m\u001b[0;34m.\u001b[0m\u001b[0merror\u001b[0m\u001b[0;34m.\u001b[0m\u001b[0mcode\u001b[0m\u001b[0;34m)\u001b[0m\u001b[0;34m,\u001b[0m \u001b[0;34m'Error message: {}'\u001b[0m\u001b[0;34m.\u001b[0m\u001b[0mformat\u001b[0m\u001b[0;34m(\u001b[0m\u001b[0me\u001b[0m\u001b[0;34m.\u001b[0m\u001b[0merror\u001b[0m\u001b[0;34m.\u001b[0m\u001b[0mmessage\u001b[0m\u001b[0;34m)\u001b[0m\u001b[0;34m)\u001b[0m\u001b[0;34m\u001b[0m\u001b[0;34m\u001b[0m\u001b[0m\n\u001b[1;32m      7\u001b[0m \u001b[0;32mexcept\u001b[0m \u001b[0mException\u001b[0m \u001b[0;32mas\u001b[0m \u001b[0me\u001b[0m\u001b[0;34m:\u001b[0m\u001b[0;34m\u001b[0m\u001b[0;34m\u001b[0m\u001b[0m\n",
      "\u001b[0;31mTypeError\u001b[0m: catching classes that do not inherit from BaseException is not allowed"
     ]
    }
   ],
   "source": [
    "print('Detecting the anomaly status of the latest data point.')\n",
    "\n",
    "try:\n",
    "    response = client.detect_last_point(request)\n",
    "except AnomalyDetectorError as e:\n",
    "    print('Error code: {}'.format(e.error.code), 'Error message: {}'.format(e.error.message))\n",
    "except Exception as e:\n",
    "    print(e)\n",
    "\n",
    "if response.is_anomaly:\n",
    "    print('The latest point is detected as anomaly.')\n",
    "else:\n",
    "    print('The latest point is not detected as anomaly.')"
   ]
  },
  {
   "cell_type": "code",
   "execution_count": 8,
   "id": "3ad98525",
   "metadata": {},
   "outputs": [
    {
     "name": "stdout",
     "output_type": "stream",
     "text": [
      "Detecting change points in the entire time series.\n"
     ]
    },
    {
     "ename": "TypeError",
     "evalue": "catching classes that do not inherit from BaseException is not allowed",
     "output_type": "error",
     "traceback": [
      "\u001b[0;31m---------------------------------------------------------------------------\u001b[0m",
      "\u001b[0;31mTypeError\u001b[0m                                 Traceback (most recent call last)",
      "\u001b[0;32m~/miniforge3/envs/v-dat/lib/python3.9/site-packages/msrest/serialization.py\u001b[0m in \u001b[0;36mserialize_data\u001b[0;34m(self, data, data_type, **kwargs)\u001b[0m\n\u001b[1;32m    764\u001b[0m             \u001b[0;32melif\u001b[0m \u001b[0mdata_type\u001b[0m \u001b[0;32min\u001b[0m \u001b[0mself\u001b[0m\u001b[0;34m.\u001b[0m\u001b[0mserialize_type\u001b[0m\u001b[0;34m:\u001b[0m\u001b[0;34m\u001b[0m\u001b[0;34m\u001b[0m\u001b[0m\n\u001b[0;32m--> 765\u001b[0;31m                 \u001b[0;32mreturn\u001b[0m \u001b[0mself\u001b[0m\u001b[0;34m.\u001b[0m\u001b[0mserialize_type\u001b[0m\u001b[0;34m[\u001b[0m\u001b[0mdata_type\u001b[0m\u001b[0;34m]\u001b[0m\u001b[0;34m(\u001b[0m\u001b[0mdata\u001b[0m\u001b[0;34m,\u001b[0m \u001b[0;34m**\u001b[0m\u001b[0mkwargs\u001b[0m\u001b[0;34m)\u001b[0m\u001b[0;34m\u001b[0m\u001b[0;34m\u001b[0m\u001b[0m\n\u001b[0m\u001b[1;32m    766\u001b[0m \u001b[0;34m\u001b[0m\u001b[0m\n",
      "\u001b[0;32m~/miniforge3/envs/v-dat/lib/python3.9/site-packages/msrest/serialization.py\u001b[0m in \u001b[0;36mserialize_iso\u001b[0;34m(attr, **kwargs)\u001b[0m\n\u001b[1;32m   1116\u001b[0m                     \"Datetime with no tzinfo will be considered UTC.\")\n\u001b[0;32m-> 1117\u001b[0;31m             \u001b[0mutc\u001b[0m \u001b[0;34m=\u001b[0m \u001b[0mattr\u001b[0m\u001b[0;34m.\u001b[0m\u001b[0mutctimetuple\u001b[0m\u001b[0;34m(\u001b[0m\u001b[0;34m)\u001b[0m\u001b[0;34m\u001b[0m\u001b[0;34m\u001b[0m\u001b[0m\n\u001b[0m\u001b[1;32m   1118\u001b[0m             \u001b[0;32mif\u001b[0m \u001b[0mutc\u001b[0m\u001b[0;34m.\u001b[0m\u001b[0mtm_year\u001b[0m \u001b[0;34m>\u001b[0m \u001b[0;36m9999\u001b[0m \u001b[0;32mor\u001b[0m \u001b[0mutc\u001b[0m\u001b[0;34m.\u001b[0m\u001b[0mtm_year\u001b[0m \u001b[0;34m<\u001b[0m \u001b[0;36m1\u001b[0m\u001b[0;34m:\u001b[0m\u001b[0;34m\u001b[0m\u001b[0;34m\u001b[0m\u001b[0m\n",
      "\u001b[0;32m~/miniforge3/envs/v-dat/lib/python3.9/site-packages/pandas/_libs/tslibs/timestamps.pyx\u001b[0m in \u001b[0;36mpandas._libs.tslibs.timestamps.Timestamp.__new__\u001b[0;34m()\u001b[0m\n",
      "\u001b[0;31mTypeError\u001b[0m: an integer is required",
      "\nDuring handling of the above exception, another exception occurred:\n",
      "\u001b[0;31mSerializationError\u001b[0m                        Traceback (most recent call last)",
      "\u001b[0;32m/var/folders/bt/g_w68s9x2m5dw3zhqnm9d3d00000gn/T/ipykernel_23666/2299116648.py\u001b[0m in \u001b[0;36m<module>\u001b[0;34m\u001b[0m\n\u001b[1;32m      3\u001b[0m \u001b[0;32mtry\u001b[0m\u001b[0;34m:\u001b[0m\u001b[0;34m\u001b[0m\u001b[0;34m\u001b[0m\u001b[0m\n\u001b[0;32m----> 4\u001b[0;31m     \u001b[0mresponse\u001b[0m \u001b[0;34m=\u001b[0m \u001b[0mclient\u001b[0m\u001b[0;34m.\u001b[0m\u001b[0mdetect_change_point\u001b[0m\u001b[0;34m(\u001b[0m\u001b[0mrequest\u001b[0m\u001b[0;34m)\u001b[0m\u001b[0;34m\u001b[0m\u001b[0;34m\u001b[0m\u001b[0m\n\u001b[0m\u001b[1;32m      5\u001b[0m \u001b[0;32mexcept\u001b[0m \u001b[0mAnomalyDetectorError\u001b[0m \u001b[0;32mas\u001b[0m \u001b[0me\u001b[0m\u001b[0;34m:\u001b[0m\u001b[0;34m\u001b[0m\u001b[0;34m\u001b[0m\u001b[0m\n",
      "\u001b[0;32m~/miniforge3/envs/v-dat/lib/python3.9/site-packages/azure/core/tracing/decorator.py\u001b[0m in \u001b[0;36mwrapper_use_tracer\u001b[0;34m(*args, **kwargs)\u001b[0m\n\u001b[1;32m     82\u001b[0m             \u001b[0;32mif\u001b[0m \u001b[0mspan_impl_type\u001b[0m \u001b[0;32mis\u001b[0m \u001b[0;32mNone\u001b[0m\u001b[0;34m:\u001b[0m\u001b[0;34m\u001b[0m\u001b[0;34m\u001b[0m\u001b[0m\n\u001b[0;32m---> 83\u001b[0;31m                 \u001b[0;32mreturn\u001b[0m \u001b[0mfunc\u001b[0m\u001b[0;34m(\u001b[0m\u001b[0;34m*\u001b[0m\u001b[0margs\u001b[0m\u001b[0;34m,\u001b[0m \u001b[0;34m**\u001b[0m\u001b[0mkwargs\u001b[0m\u001b[0;34m)\u001b[0m\u001b[0;34m\u001b[0m\u001b[0;34m\u001b[0m\u001b[0m\n\u001b[0m\u001b[1;32m     84\u001b[0m \u001b[0;34m\u001b[0m\u001b[0m\n",
      "\u001b[0;32m~/miniforge3/envs/v-dat/lib/python3.9/site-packages/azure/ai/anomalydetector/operations/_anomaly_detector_client_operations.py\u001b[0m in \u001b[0;36mdetect_change_point\u001b[0;34m(self, body, **kwargs)\u001b[0m\n\u001b[1;32m    486\u001b[0m \u001b[0;34m\u001b[0m\u001b[0m\n\u001b[0;32m--> 487\u001b[0;31m         \u001b[0m_json\u001b[0m \u001b[0;34m=\u001b[0m \u001b[0mself\u001b[0m\u001b[0;34m.\u001b[0m\u001b[0m_serialize\u001b[0m\u001b[0;34m.\u001b[0m\u001b[0mbody\u001b[0m\u001b[0;34m(\u001b[0m\u001b[0mbody\u001b[0m\u001b[0;34m,\u001b[0m \u001b[0;34m'ChangePointDetectRequest'\u001b[0m\u001b[0;34m)\u001b[0m\u001b[0;34m\u001b[0m\u001b[0;34m\u001b[0m\u001b[0m\n\u001b[0m\u001b[1;32m    488\u001b[0m \u001b[0;34m\u001b[0m\u001b[0m\n",
      "\u001b[0;32m~/miniforge3/envs/v-dat/lib/python3.9/site-packages/msrest/serialization.py\u001b[0m in \u001b[0;36mbody\u001b[0;34m(self, data, data_type, **kwargs)\u001b[0m\n\u001b[1;32m    628\u001b[0m                 \u001b[0;32mraise\u001b[0m \u001b[0merrors\u001b[0m\u001b[0;34m[\u001b[0m\u001b[0;36m0\u001b[0m\u001b[0;34m]\u001b[0m\u001b[0;34m\u001b[0m\u001b[0;34m\u001b[0m\u001b[0m\n\u001b[0;32m--> 629\u001b[0;31m         \u001b[0;32mreturn\u001b[0m \u001b[0mself\u001b[0m\u001b[0;34m.\u001b[0m\u001b[0m_serialize\u001b[0m\u001b[0;34m(\u001b[0m\u001b[0mdata\u001b[0m\u001b[0;34m,\u001b[0m \u001b[0mdata_type\u001b[0m\u001b[0;34m,\u001b[0m \u001b[0;34m**\u001b[0m\u001b[0mkwargs\u001b[0m\u001b[0;34m)\u001b[0m\u001b[0;34m\u001b[0m\u001b[0;34m\u001b[0m\u001b[0m\n\u001b[0m\u001b[1;32m    630\u001b[0m \u001b[0;34m\u001b[0m\u001b[0m\n",
      "\u001b[0;32m~/miniforge3/envs/v-dat/lib/python3.9/site-packages/msrest/serialization.py\u001b[0m in \u001b[0;36m_serialize\u001b[0;34m(self, target_obj, data_type, **kwargs)\u001b[0m\n\u001b[1;32m    482\u001b[0m         \u001b[0;32mif\u001b[0m \u001b[0mdata_type\u001b[0m\u001b[0;34m:\u001b[0m\u001b[0;34m\u001b[0m\u001b[0;34m\u001b[0m\u001b[0m\n\u001b[0;32m--> 483\u001b[0;31m             return self.serialize_data(\n\u001b[0m\u001b[1;32m    484\u001b[0m                 target_obj, data_type, **kwargs)\n",
      "\u001b[0;32m~/miniforge3/envs/v-dat/lib/python3.9/site-packages/msrest/serialization.py\u001b[0m in \u001b[0;36mserialize_data\u001b[0;34m(self, data, data_type, **kwargs)\u001b[0m\n\u001b[1;32m    782\u001b[0m         \u001b[0;32melse\u001b[0m\u001b[0;34m:\u001b[0m\u001b[0;34m\u001b[0m\u001b[0;34m\u001b[0m\u001b[0m\n\u001b[0;32m--> 783\u001b[0;31m             \u001b[0;32mreturn\u001b[0m \u001b[0mself\u001b[0m\u001b[0;34m.\u001b[0m\u001b[0m_serialize\u001b[0m\u001b[0;34m(\u001b[0m\u001b[0mdata\u001b[0m\u001b[0;34m,\u001b[0m \u001b[0;34m**\u001b[0m\u001b[0mkwargs\u001b[0m\u001b[0;34m)\u001b[0m\u001b[0;34m\u001b[0m\u001b[0;34m\u001b[0m\u001b[0m\n\u001b[0m\u001b[1;32m    784\u001b[0m \u001b[0;34m\u001b[0m\u001b[0m\n",
      "\u001b[0;32m~/miniforge3/envs/v-dat/lib/python3.9/site-packages/msrest/serialization.py\u001b[0m in \u001b[0;36m_serialize\u001b[0;34m(self, target_obj, data_type, **kwargs)\u001b[0m\n\u001b[1;32m    522\u001b[0m                     \u001b[0mkwargs\u001b[0m\u001b[0;34m[\u001b[0m\u001b[0;34m\"serialization_ctxt\"\u001b[0m\u001b[0;34m]\u001b[0m \u001b[0;34m=\u001b[0m \u001b[0mattr_desc\u001b[0m\u001b[0;34m\u001b[0m\u001b[0;34m\u001b[0m\u001b[0m\n\u001b[0;32m--> 523\u001b[0;31m                     \u001b[0mnew_attr\u001b[0m \u001b[0;34m=\u001b[0m \u001b[0mself\u001b[0m\u001b[0;34m.\u001b[0m\u001b[0mserialize_data\u001b[0m\u001b[0;34m(\u001b[0m\u001b[0morig_attr\u001b[0m\u001b[0;34m,\u001b[0m \u001b[0mattr_desc\u001b[0m\u001b[0;34m[\u001b[0m\u001b[0;34m'type'\u001b[0m\u001b[0;34m]\u001b[0m\u001b[0;34m,\u001b[0m \u001b[0;34m**\u001b[0m\u001b[0mkwargs\u001b[0m\u001b[0;34m)\u001b[0m\u001b[0;34m\u001b[0m\u001b[0;34m\u001b[0m\u001b[0m\n\u001b[0m\u001b[1;32m    524\u001b[0m \u001b[0;34m\u001b[0m\u001b[0m\n",
      "\u001b[0;32m~/miniforge3/envs/v-dat/lib/python3.9/site-packages/msrest/serialization.py\u001b[0m in \u001b[0;36mserialize_data\u001b[0;34m(self, data, data_type, **kwargs)\u001b[0m\n\u001b[1;32m    774\u001b[0m             \u001b[0;32mif\u001b[0m \u001b[0miter_type\u001b[0m \u001b[0;32min\u001b[0m \u001b[0mself\u001b[0m\u001b[0;34m.\u001b[0m\u001b[0mserialize_type\u001b[0m\u001b[0;34m:\u001b[0m\u001b[0;34m\u001b[0m\u001b[0;34m\u001b[0m\u001b[0m\n\u001b[0;32m--> 775\u001b[0;31m                 return self.serialize_type[iter_type](\n\u001b[0m\u001b[1;32m    776\u001b[0m                     data, data_type[1:-1], **kwargs)\n",
      "\u001b[0;32m~/miniforge3/envs/v-dat/lib/python3.9/site-packages/msrest/serialization.py\u001b[0m in \u001b[0;36mserialize_iter\u001b[0;34m(self, data, iter_type, div, **kwargs)\u001b[0m\n\u001b[1;32m    859\u001b[0m             \u001b[0;32mtry\u001b[0m\u001b[0;34m:\u001b[0m\u001b[0;34m\u001b[0m\u001b[0;34m\u001b[0m\u001b[0m\n\u001b[0;32m--> 860\u001b[0;31m                 \u001b[0mserialized\u001b[0m\u001b[0;34m.\u001b[0m\u001b[0mappend\u001b[0m\u001b[0;34m(\u001b[0m\u001b[0mself\u001b[0m\u001b[0;34m.\u001b[0m\u001b[0mserialize_data\u001b[0m\u001b[0;34m(\u001b[0m\u001b[0md\u001b[0m\u001b[0;34m,\u001b[0m \u001b[0miter_type\u001b[0m\u001b[0;34m,\u001b[0m \u001b[0;34m**\u001b[0m\u001b[0mkwargs\u001b[0m\u001b[0;34m)\u001b[0m\u001b[0;34m)\u001b[0m\u001b[0;34m\u001b[0m\u001b[0;34m\u001b[0m\u001b[0m\n\u001b[0m\u001b[1;32m    861\u001b[0m             \u001b[0;32mexcept\u001b[0m \u001b[0mValueError\u001b[0m\u001b[0;34m:\u001b[0m\u001b[0;34m\u001b[0m\u001b[0;34m\u001b[0m\u001b[0m\n",
      "\u001b[0;32m~/miniforge3/envs/v-dat/lib/python3.9/site-packages/msrest/serialization.py\u001b[0m in \u001b[0;36mserialize_data\u001b[0;34m(self, data, data_type, **kwargs)\u001b[0m\n\u001b[1;32m    782\u001b[0m         \u001b[0;32melse\u001b[0m\u001b[0;34m:\u001b[0m\u001b[0;34m\u001b[0m\u001b[0;34m\u001b[0m\u001b[0m\n\u001b[0;32m--> 783\u001b[0;31m             \u001b[0;32mreturn\u001b[0m \u001b[0mself\u001b[0m\u001b[0;34m.\u001b[0m\u001b[0m_serialize\u001b[0m\u001b[0;34m(\u001b[0m\u001b[0mdata\u001b[0m\u001b[0;34m,\u001b[0m \u001b[0;34m**\u001b[0m\u001b[0mkwargs\u001b[0m\u001b[0;34m)\u001b[0m\u001b[0;34m\u001b[0m\u001b[0;34m\u001b[0m\u001b[0m\n\u001b[0m\u001b[1;32m    784\u001b[0m \u001b[0;34m\u001b[0m\u001b[0m\n",
      "\u001b[0;32m~/miniforge3/envs/v-dat/lib/python3.9/site-packages/msrest/serialization.py\u001b[0m in \u001b[0;36m_serialize\u001b[0;34m(self, target_obj, data_type, **kwargs)\u001b[0m\n\u001b[1;32m    522\u001b[0m                     \u001b[0mkwargs\u001b[0m\u001b[0;34m[\u001b[0m\u001b[0;34m\"serialization_ctxt\"\u001b[0m\u001b[0;34m]\u001b[0m \u001b[0;34m=\u001b[0m \u001b[0mattr_desc\u001b[0m\u001b[0;34m\u001b[0m\u001b[0;34m\u001b[0m\u001b[0m\n\u001b[0;32m--> 523\u001b[0;31m                     \u001b[0mnew_attr\u001b[0m \u001b[0;34m=\u001b[0m \u001b[0mself\u001b[0m\u001b[0;34m.\u001b[0m\u001b[0mserialize_data\u001b[0m\u001b[0;34m(\u001b[0m\u001b[0morig_attr\u001b[0m\u001b[0;34m,\u001b[0m \u001b[0mattr_desc\u001b[0m\u001b[0;34m[\u001b[0m\u001b[0;34m'type'\u001b[0m\u001b[0;34m]\u001b[0m\u001b[0;34m,\u001b[0m \u001b[0;34m**\u001b[0m\u001b[0mkwargs\u001b[0m\u001b[0;34m)\u001b[0m\u001b[0;34m\u001b[0m\u001b[0;34m\u001b[0m\u001b[0m\n\u001b[0m\u001b[1;32m    524\u001b[0m \u001b[0;34m\u001b[0m\u001b[0m\n",
      "\u001b[0;32m~/miniforge3/envs/v-dat/lib/python3.9/site-packages/msrest/serialization.py\u001b[0m in \u001b[0;36mserialize_data\u001b[0;34m(self, data, data_type, **kwargs)\u001b[0m\n\u001b[1;32m    779\u001b[0m             \u001b[0mmsg\u001b[0m \u001b[0;34m=\u001b[0m \u001b[0;34m\"Unable to serialize value: {!r} as type: {!r}.\"\u001b[0m\u001b[0;34m\u001b[0m\u001b[0;34m\u001b[0m\u001b[0m\n\u001b[0;32m--> 780\u001b[0;31m             raise_with_traceback(\n\u001b[0m\u001b[1;32m    781\u001b[0m                 SerializationError, msg.format(data, data_type), err)\n",
      "\u001b[0;32m~/miniforge3/envs/v-dat/lib/python3.9/site-packages/msrest/exceptions.py\u001b[0m in \u001b[0;36mraise_with_traceback\u001b[0;34m(exception, message, *args, **kwargs)\u001b[0m\n\u001b[1;32m     50\u001b[0m     \u001b[0;32mtry\u001b[0m\u001b[0;34m:\u001b[0m\u001b[0;34m\u001b[0m\u001b[0;34m\u001b[0m\u001b[0m\n\u001b[0;32m---> 51\u001b[0;31m         \u001b[0;32mraise\u001b[0m \u001b[0merror\u001b[0m\u001b[0;34m.\u001b[0m\u001b[0mwith_traceback\u001b[0m\u001b[0;34m(\u001b[0m\u001b[0mexc_traceback\u001b[0m\u001b[0;34m)\u001b[0m\u001b[0;34m\u001b[0m\u001b[0;34m\u001b[0m\u001b[0m\n\u001b[0m\u001b[1;32m     52\u001b[0m     \u001b[0;32mexcept\u001b[0m \u001b[0mAttributeError\u001b[0m\u001b[0;34m:\u001b[0m\u001b[0;34m\u001b[0m\u001b[0;34m\u001b[0m\u001b[0m\n",
      "\u001b[0;32m~/miniforge3/envs/v-dat/lib/python3.9/site-packages/msrest/serialization.py\u001b[0m in \u001b[0;36mserialize_data\u001b[0;34m(self, data, data_type, **kwargs)\u001b[0m\n\u001b[1;32m    764\u001b[0m             \u001b[0;32melif\u001b[0m \u001b[0mdata_type\u001b[0m \u001b[0;32min\u001b[0m \u001b[0mself\u001b[0m\u001b[0;34m.\u001b[0m\u001b[0mserialize_type\u001b[0m\u001b[0;34m:\u001b[0m\u001b[0;34m\u001b[0m\u001b[0;34m\u001b[0m\u001b[0m\n\u001b[0;32m--> 765\u001b[0;31m                 \u001b[0;32mreturn\u001b[0m \u001b[0mself\u001b[0m\u001b[0;34m.\u001b[0m\u001b[0mserialize_type\u001b[0m\u001b[0;34m[\u001b[0m\u001b[0mdata_type\u001b[0m\u001b[0;34m]\u001b[0m\u001b[0;34m(\u001b[0m\u001b[0mdata\u001b[0m\u001b[0;34m,\u001b[0m \u001b[0;34m**\u001b[0m\u001b[0mkwargs\u001b[0m\u001b[0;34m)\u001b[0m\u001b[0;34m\u001b[0m\u001b[0;34m\u001b[0m\u001b[0m\n\u001b[0m\u001b[1;32m    766\u001b[0m \u001b[0;34m\u001b[0m\u001b[0m\n",
      "\u001b[0;32m~/miniforge3/envs/v-dat/lib/python3.9/site-packages/msrest/serialization.py\u001b[0m in \u001b[0;36mserialize_iso\u001b[0;34m(attr, **kwargs)\u001b[0m\n\u001b[1;32m   1116\u001b[0m                     \"Datetime with no tzinfo will be considered UTC.\")\n\u001b[0;32m-> 1117\u001b[0;31m             \u001b[0mutc\u001b[0m \u001b[0;34m=\u001b[0m \u001b[0mattr\u001b[0m\u001b[0;34m.\u001b[0m\u001b[0mutctimetuple\u001b[0m\u001b[0;34m(\u001b[0m\u001b[0;34m)\u001b[0m\u001b[0;34m\u001b[0m\u001b[0;34m\u001b[0m\u001b[0m\n\u001b[0m\u001b[1;32m   1118\u001b[0m             \u001b[0;32mif\u001b[0m \u001b[0mutc\u001b[0m\u001b[0;34m.\u001b[0m\u001b[0mtm_year\u001b[0m \u001b[0;34m>\u001b[0m \u001b[0;36m9999\u001b[0m \u001b[0;32mor\u001b[0m \u001b[0mutc\u001b[0m\u001b[0;34m.\u001b[0m\u001b[0mtm_year\u001b[0m \u001b[0;34m<\u001b[0m \u001b[0;36m1\u001b[0m\u001b[0;34m:\u001b[0m\u001b[0;34m\u001b[0m\u001b[0;34m\u001b[0m\u001b[0m\n",
      "\u001b[0;32m~/miniforge3/envs/v-dat/lib/python3.9/site-packages/pandas/_libs/tslibs/timestamps.pyx\u001b[0m in \u001b[0;36mpandas._libs.tslibs.timestamps.Timestamp.__new__\u001b[0;34m()\u001b[0m\n",
      "\u001b[0;31mSerializationError\u001b[0m: Unable to serialize value: Timestamp('2018-03-01 00:00:00+0000', tz='UTC') as type: 'iso-8601'., TypeError: an integer is required",
      "\nDuring handling of the above exception, another exception occurred:\n",
      "\u001b[0;31mTypeError\u001b[0m                                 Traceback (most recent call last)",
      "\u001b[0;32m/var/folders/bt/g_w68s9x2m5dw3zhqnm9d3d00000gn/T/ipykernel_23666/2299116648.py\u001b[0m in \u001b[0;36m<module>\u001b[0;34m\u001b[0m\n\u001b[1;32m      3\u001b[0m \u001b[0;32mtry\u001b[0m\u001b[0;34m:\u001b[0m\u001b[0;34m\u001b[0m\u001b[0;34m\u001b[0m\u001b[0m\n\u001b[1;32m      4\u001b[0m     \u001b[0mresponse\u001b[0m \u001b[0;34m=\u001b[0m \u001b[0mclient\u001b[0m\u001b[0;34m.\u001b[0m\u001b[0mdetect_change_point\u001b[0m\u001b[0;34m(\u001b[0m\u001b[0mrequest\u001b[0m\u001b[0;34m)\u001b[0m\u001b[0;34m\u001b[0m\u001b[0;34m\u001b[0m\u001b[0m\n\u001b[0;32m----> 5\u001b[0;31m \u001b[0;32mexcept\u001b[0m \u001b[0mAnomalyDetectorError\u001b[0m \u001b[0;32mas\u001b[0m \u001b[0me\u001b[0m\u001b[0;34m:\u001b[0m\u001b[0;34m\u001b[0m\u001b[0;34m\u001b[0m\u001b[0m\n\u001b[0m\u001b[1;32m      6\u001b[0m     \u001b[0mprint\u001b[0m\u001b[0;34m(\u001b[0m\u001b[0;34m'Error code: {}'\u001b[0m\u001b[0;34m.\u001b[0m\u001b[0mformat\u001b[0m\u001b[0;34m(\u001b[0m\u001b[0me\u001b[0m\u001b[0;34m.\u001b[0m\u001b[0merror\u001b[0m\u001b[0;34m.\u001b[0m\u001b[0mcode\u001b[0m\u001b[0;34m)\u001b[0m\u001b[0;34m,\u001b[0m \u001b[0;34m'Error message: {}'\u001b[0m\u001b[0;34m.\u001b[0m\u001b[0mformat\u001b[0m\u001b[0;34m(\u001b[0m\u001b[0me\u001b[0m\u001b[0;34m.\u001b[0m\u001b[0merror\u001b[0m\u001b[0;34m.\u001b[0m\u001b[0mmessage\u001b[0m\u001b[0;34m)\u001b[0m\u001b[0;34m)\u001b[0m\u001b[0;34m\u001b[0m\u001b[0;34m\u001b[0m\u001b[0m\n\u001b[1;32m      7\u001b[0m \u001b[0;32mexcept\u001b[0m \u001b[0mException\u001b[0m \u001b[0;32mas\u001b[0m \u001b[0me\u001b[0m\u001b[0;34m:\u001b[0m\u001b[0;34m\u001b[0m\u001b[0;34m\u001b[0m\u001b[0m\n",
      "\u001b[0;31mTypeError\u001b[0m: catching classes that do not inherit from BaseException is not allowed"
     ]
    }
   ],
   "source": [
    "print('Detecting change points in the entire time series.')\n",
    "\n",
    "try:\n",
    "    response = client.detect_change_point(request)\n",
    "except AnomalyDetectorError as e:\n",
    "    print('Error code: {}'.format(e.error.code), 'Error message: {}'.format(e.error.message))\n",
    "except Exception as e:\n",
    "    print(e)\n",
    "\n",
    "if any(response.is_change_point):\n",
    "    print('An change point was detected at index:')\n",
    "    for i, value in enumerate(response.is_change_point):\n",
    "        if value:\n",
    "            print(i)\n",
    "else:\n",
    "    print('No change point were detected in the time series.')"
   ]
  },
  {
   "cell_type": "code",
   "execution_count": null,
   "id": "f14e8f25",
   "metadata": {},
   "outputs": [],
   "source": []
  }
 ],
 "metadata": {
  "kernelspec": {
   "display_name": "vdat",
   "language": "python",
   "name": "vdat"
  },
  "language_info": {
   "codemirror_mode": {
    "name": "ipython",
    "version": 3
   },
   "file_extension": ".py",
   "mimetype": "text/x-python",
   "name": "python",
   "nbconvert_exporter": "python",
   "pygments_lexer": "ipython3",
   "version": "3.9.5"
  }
 },
 "nbformat": 4,
 "nbformat_minor": 5
}
